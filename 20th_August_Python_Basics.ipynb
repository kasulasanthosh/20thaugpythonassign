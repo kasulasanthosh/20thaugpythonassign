{
 "cells": [
  {
   "cell_type": "code",
   "execution_count": 46,
   "id": "9f3c30db-be9f-409c-a214-2db40278b668",
   "metadata": {},
   "outputs": [
    {
     "data": {
      "text/plain": [
       "'sllikswp'"
      ]
     },
     "execution_count": 46,
     "metadata": {},
     "output_type": "execute_result"
    }
   ],
   "source": [
    "# 1. Write a program to reverse a string.\n",
    "s1=\"pwskills\"\n",
    "s1[::-1]"
   ]
  },
  {
   "cell_type": "code",
   "execution_count": 47,
   "id": "721afe77-2d78-4704-af20-265da5be1478",
   "metadata": {},
   "outputs": [
    {
     "name": "stdout",
     "output_type": "stream",
     "text": [
      "string is palindrome\n"
     ]
    }
   ],
   "source": [
    "# 2. Check if a string is a palindrome.\n",
    "s2=\"madam\"\n",
    "if s2==s2[::-1]:\n",
    "    print(\"string is palindrome\")\n",
    "else:\n",
    "    print(\"string is not palindrome\")"
   ]
  },
  {
   "cell_type": "code",
   "execution_count": 48,
   "id": "26c571a2-3f4d-456d-a7d4-d3b47e76f179",
   "metadata": {},
   "outputs": [
    {
     "data": {
      "text/plain": [
       "'PYTHON'"
      ]
     },
     "execution_count": 48,
     "metadata": {},
     "output_type": "execute_result"
    }
   ],
   "source": [
    "# 3. Convert a string to uppercase.\n",
    "s3=\"python\"\n",
    "s3.upper()"
   ]
  },
  {
   "cell_type": "code",
   "execution_count": 49,
   "id": "4515cd17-e380-4de2-9624-78b2c2f9e82e",
   "metadata": {},
   "outputs": [
    {
     "data": {
      "text/plain": [
       "'i am learning full stack data science'"
      ]
     },
     "execution_count": 49,
     "metadata": {},
     "output_type": "execute_result"
    }
   ],
   "source": [
    "# 4. Convert a string to lowercase.\n",
    "s4=\"I am learning full Stack Data Science\"\n",
    "s4.lower()"
   ]
  },
  {
   "cell_type": "code",
   "execution_count": 50,
   "id": "9e63c698-6501-47be-ac03-d5aff7253a7d",
   "metadata": {},
   "outputs": [
    {
     "name": "stdout",
     "output_type": "stream",
     "text": [
      "the number of vowels are: 5\n"
     ]
    }
   ],
   "source": [
    "# 5. Count the number of vowels in a string.\n",
    "s5=\"my name is santhosh\"\n",
    "vowel=0\n",
    "for v in s5:\n",
    "    if(v=='a'or v=='e'or v=='i'or v=='o'or v=='u'or v=='A'or v=='E'or v=='I' or v=='O' or v=='U'):\n",
    "        vowel=vowel+1\n",
    "print(\"the number of vowels are:\",vowel)\n"
   ]
  },
  {
   "cell_type": "code",
   "execution_count": 51,
   "id": "7299353a-25a1-4df5-bec2-4f735b3e0efc",
   "metadata": {},
   "outputs": [
    {
     "name": "stdout",
     "output_type": "stream",
     "text": [
      "the number of cosnonent are: 14\n"
     ]
    }
   ],
   "source": [
    "# 6. Count the number of consonants in a string.\n",
    "s5=\"my name is santhosh\"\n",
    "vowel=0\n",
    "conse=0\n",
    "for v in s5:\n",
    "    if(v=='a'or v=='e'or v=='i'or v=='o'or v=='u'or v=='A'or v=='E'or v=='I' or v=='O' or v=='U'):\n",
    "        vowel=vowel+1\n",
    "    else:\n",
    "        conse=conse+1\n",
    "print(\"the number of cosnonent are:\",conse)\n"
   ]
  },
  {
   "cell_type": "code",
   "execution_count": 52,
   "id": "11822f47-3ec1-4384-a7ba-cf4893971016",
   "metadata": {},
   "outputs": [
    {
     "name": "stdout",
     "output_type": "stream",
     "text": [
      "output is: i am learning python\n"
     ]
    }
   ],
   "source": [
    "#7. Remove all whitespaces from a string.\n",
    "s6=\"     i am learning python     \"\n",
    "s7=s6.strip()\n",
    "print(\"output is:\",s7)"
   ]
  },
  {
   "cell_type": "code",
   "execution_count": 53,
   "id": "c0dbe4a5-7e2b-483c-9608-03aab03307b4",
   "metadata": {},
   "outputs": [
    {
     "name": "stdout",
     "output_type": "stream",
     "text": [
      "28\n"
     ]
    }
   ],
   "source": [
    "# 8. Find the length of a string without using the `len()` function.\n",
    "s8=\"i am doing python assignment\"\n",
    "count=0\n",
    "for i in s8:\n",
    "    count=count+1\n",
    "print(count)"
   ]
  },
  {
   "cell_type": "code",
   "execution_count": 54,
   "id": "34377c78-b7e2-4234-a10a-f3ce49b23292",
   "metadata": {},
   "outputs": [
    {
     "name": "stdout",
     "output_type": "stream",
     "text": [
      "string contains word\n"
     ]
    }
   ],
   "source": [
    "# 9. Check if a string contains a specific word.\n",
    "s9=\"Full Stack Data Science Pro\"\n",
    "if \"S\" in s9:\n",
    "    print(\"string contains word\")\n",
    "else:\n",
    "    print(\"no word\")"
   ]
  },
  {
   "cell_type": "code",
   "execution_count": 55,
   "id": "226f299f-5526-4fbf-a725-ec8ff829ea31",
   "metadata": {},
   "outputs": [
    {
     "data": {
      "text/plain": [
       "'Full Stack Data Science program'"
      ]
     },
     "execution_count": 55,
     "metadata": {},
     "output_type": "execute_result"
    }
   ],
   "source": [
    "# 10. Replace a word in a string with another word.\n",
    "s9.replace(\"Pro\",\"program\")"
   ]
  },
  {
   "cell_type": "code",
   "execution_count": 56,
   "id": "daf70aab-f1fe-41cf-9835-a656a9ce6f78",
   "metadata": {},
   "outputs": [
    {
     "data": {
      "text/plain": [
       "2"
      ]
     },
     "execution_count": 56,
     "metadata": {},
     "output_type": "execute_result"
    }
   ],
   "source": [
    "# 11. Count the occurrences of a word in a string.\n",
    "s10=\"Acquire end-to-end expertise\" \n",
    "s10.count('end')"
   ]
  },
  {
   "cell_type": "code",
   "execution_count": 57,
   "id": "68916701-7df9-4498-a8b7-91210724f61e",
   "metadata": {},
   "outputs": [
    {
     "data": {
      "text/plain": [
       "8"
      ]
     },
     "execution_count": 57,
     "metadata": {},
     "output_type": "execute_result"
    }
   ],
   "source": [
    "# 12. Find the first occurrence of a word in a string.\n",
    "s10.find(\"end\")"
   ]
  },
  {
   "cell_type": "code",
   "execution_count": 58,
   "id": "f4753c7c-10c6-42e6-8bfd-d6095b288208",
   "metadata": {},
   "outputs": [
    {
     "data": {
      "text/plain": [
       "15"
      ]
     },
     "execution_count": 58,
     "metadata": {},
     "output_type": "execute_result"
    }
   ],
   "source": [
    "# 13. Find the last occurrence of a word in a string.\n",
    "s10.rfind(\"end\")"
   ]
  },
  {
   "cell_type": "code",
   "execution_count": 59,
   "id": "67eb87b6-d92d-478d-a0ea-fca8ef566034",
   "metadata": {},
   "outputs": [
    {
     "data": {
      "text/plain": [
       "['Acquire', 'end-to-end', 'expertise']"
      ]
     },
     "execution_count": 59,
     "metadata": {},
     "output_type": "execute_result"
    }
   ],
   "source": [
    "# 14. Split a string into a list of words.\n",
    "s10.split(\" \")"
   ]
  },
  {
   "cell_type": "code",
   "execution_count": 60,
   "id": "d121a7d5-7e8c-438f-8686-c64a9fab89a9",
   "metadata": {},
   "outputs": [
    {
     "data": {
      "text/plain": [
       "'data exploration and engineering to machine learning'"
      ]
     },
     "execution_count": 60,
     "metadata": {},
     "output_type": "execute_result"
    }
   ],
   "source": [
    "# 15. Join a list of words into a string.\n",
    "s11=\"data\", \"exploration\", \"and\",\"engineering\", \"to\", \"machine\", \"learning\"\n",
    "' '.join(s11)"
   ]
  },
  {
   "cell_type": "code",
   "execution_count": 34,
   "id": "6c2b2979-76c8-4969-bdf5-43ec4b7e43c4",
   "metadata": {},
   "outputs": [
    {
     "name": "stdout",
     "output_type": "stream",
     "text": [
      "i_am_santosh\n"
     ]
    }
   ],
   "source": [
    "#16. Convert a string where words are separated by spaces to one where words are separated by underscores.\n",
    "def underscore(text):\n",
    "    under_seperated=text.replace(\" \",\"_\")\n",
    "    return under_seperated\n",
    "text=\"i am santosh\"\n",
    "converted_text=underscore(text)\n",
    "print(converted_text)"
   ]
  },
  {
   "cell_type": "code",
   "execution_count": 62,
   "id": "d0ddf785-5a12-40c7-83d5-ac1d80160648",
   "metadata": {},
   "outputs": [
    {
     "data": {
      "text/plain": [
       "True"
      ]
     },
     "execution_count": 62,
     "metadata": {},
     "output_type": "execute_result"
    }
   ],
   "source": [
    "# 17. Check if a string starts with a specific word or phrase.\n",
    "s10.startswith(\"Acquire\")"
   ]
  },
  {
   "cell_type": "code",
   "execution_count": 63,
   "id": "6c60be4e-cdc8-4e80-8e90-ef7e8b8ba318",
   "metadata": {},
   "outputs": [
    {
     "data": {
      "text/plain": [
       "True"
      ]
     },
     "execution_count": 63,
     "metadata": {},
     "output_type": "execute_result"
    }
   ],
   "source": [
    "# 18. Check if a string ends with a specific word or phrase.\n",
    "s10.endswith(\"expertise\")"
   ]
  },
  {
   "cell_type": "code",
   "execution_count": 64,
   "id": "5daf6330-4f84-4f4d-a037-d117309b74eb",
   "metadata": {},
   "outputs": [
    {
     "data": {
      "text/plain": [
       "'Hello World'"
      ]
     },
     "execution_count": 64,
     "metadata": {},
     "output_type": "execute_result"
    }
   ],
   "source": [
    "\n",
    "#19. Convert a string to title case (e.g., \"hello world\" to \"Hello World\").\n",
    "s13=\"hello world\"\n",
    "s13.title()"
   ]
  },
  {
   "cell_type": "code",
   "execution_count": 65,
   "id": "36bd3f50-ad5f-4b3f-a389-8913a1c65e3e",
   "metadata": {},
   "outputs": [
    {
     "name": "stdout",
     "output_type": "stream",
     "text": [
      "experiment\n"
     ]
    }
   ],
   "source": [
    "#20. Find the longest word in a string.\n",
    "s14=\"A123 platform where 123 you will explore, experiment\"\n",
    "s15=s14.split()\n",
    "longest=max(s15,key=len)\n",
    "print(longest)"
   ]
  },
  {
   "cell_type": "code",
   "execution_count": 66,
   "id": "c403e8b8-1ee8-468d-b101-cc9ff60c203a",
   "metadata": {},
   "outputs": [
    {
     "name": "stdout",
     "output_type": "stream",
     "text": [
      "123\n"
     ]
    }
   ],
   "source": [
    "#21. Find the shortest word in a string.\n",
    "shortest=min(s15,key=len)\n",
    "print(shortest)"
   ]
  },
  {
   "cell_type": "code",
   "execution_count": 67,
   "id": "fa07de01-517c-4ba3-a799-398b3c356eeb",
   "metadata": {},
   "outputs": [
    {
     "name": "stdout",
     "output_type": "stream",
     "text": [
      "language programming python\n"
     ]
    }
   ],
   "source": [
    "#22. Reverse the order of words in a string.\n",
    "x=\"python programming language\"\n",
    "a=x.split()\n",
    "a.reverse()\n",
    "print(' '.join(a))"
   ]
  },
  {
   "cell_type": "code",
   "execution_count": 68,
   "id": "4e34faeb-ff9d-4fb1-ad47-fadcb79ee1b7",
   "metadata": {},
   "outputs": [
    {
     "data": {
      "text/plain": [
       "True"
      ]
     },
     "execution_count": 68,
     "metadata": {},
     "output_type": "execute_result"
    }
   ],
   "source": [
    "# 23. Check if a string is alphanumeric.\n",
    "s16=\"abc123ede234\"\n",
    "s16.isalnum()"
   ]
  },
  {
   "cell_type": "code",
   "execution_count": 69,
   "id": "a6887d73-bcaa-4fdd-a787-154d3e68a8a4",
   "metadata": {},
   "outputs": [
    {
     "name": "stdout",
     "output_type": "stream",
     "text": [
      "[3, 0]\n"
     ]
    }
   ],
   "source": [
    "#24. Extract all digits from a string.\n",
    "s18=\"there are 30 members\"\n",
    "dig=[]\n",
    "for x in s18:\n",
    "    if x.isdigit():\n",
    "      dig.append(int(x))  \n",
    "print(dig)"
   ]
  },
  {
   "cell_type": "code",
   "execution_count": 70,
   "id": "2832cd04-46b1-4c8e-a8d7-484ea91418c1",
   "metadata": {},
   "outputs": [
    {
     "name": "stdout",
     "output_type": "stream",
     "text": [
      "['t', 'h', 'e', 'r', 'e', 'a', 'r', 'e', 'm', 'e', 'm', 'b', 'e', 'r', 's']\n"
     ]
    }
   ],
   "source": [
    "#25. Extract all alphabets from a string.\n",
    "s18=\"there are 30 members\"\n",
    "dig=[]\n",
    "for x in s18:\n",
    "    if x.isalpha():\n",
    "      dig.append(x)  \n",
    "print(dig)"
   ]
  },
  {
   "cell_type": "code",
   "execution_count": 71,
   "id": "8db26c58-4ef3-4f3c-8fc3-f70c065b9493",
   "metadata": {},
   "outputs": [
    {
     "name": "stdout",
     "output_type": "stream",
     "text": [
      "uppercase letter 4\n",
      "uppercase letter 19\n"
     ]
    }
   ],
   "source": [
    "#26. Count the number of uppercase letters in a string.\n",
    "#27. Count the number of lowercase letters in a string.\n",
    "s17=\"Full Stack Data Science\"\n",
    "upper=0\n",
    "lower=0\n",
    "for x in s17:\n",
    "    if x.isupper():\n",
    "        upper=upper+1\n",
    "    else:\n",
    "        lower=lower+1\n",
    "print(\"uppercase letter\",upper)\n",
    "print(\"uppercase letter\",lower)    "
   ]
  },
  {
   "cell_type": "code",
   "execution_count": 72,
   "id": "10da7f3c-8a89-46a1-a1b3-32c79e251a55",
   "metadata": {},
   "outputs": [
    {
     "data": {
      "text/plain": [
       "'fULL sTACK dATA sCIENCE'"
      ]
     },
     "execution_count": 72,
     "metadata": {},
     "output_type": "execute_result"
    }
   ],
   "source": [
    "#28. Swap the case of each character in a string.\n",
    "s17.swapcase()"
   ]
  },
  {
   "cell_type": "code",
   "execution_count": 73,
   "id": "4901af03-4ad0-477f-a426-ec2e010e1cda",
   "metadata": {},
   "outputs": [
    {
     "data": {
      "text/plain": [
       "'Full  Data Science'"
      ]
     },
     "execution_count": 73,
     "metadata": {},
     "output_type": "execute_result"
    }
   ],
   "source": [
    "#29. Remove a specific word from a string.\n",
    "s17.replace(\"Stack\",\"\")"
   ]
  },
  {
   "cell_type": "code",
   "execution_count": 37,
   "id": "974dd130-49ff-4583-bbcc-1c926c4e49f8",
   "metadata": {},
   "outputs": [
    {
     "name": "stdout",
     "output_type": "stream",
     "text": [
      "True\n",
      "False\n"
     ]
    }
   ],
   "source": [
    "#30. Check if a string is a valid email address.\n",
    "import re\n",
    "def is_valid_email(email):\n",
    "    patteren=r'^[\\w\\.-]+@[\\w\\.-]+\\.\\w+$'\n",
    "    if re.match(patteren,email):\n",
    "        return True\n",
    "    else:\n",
    "        return False\n",
    "email1=\"example@gmail.com\"\n",
    "email2=\"invalied-email\"\n",
    "result1=is_valid_email(email1)\n",
    "result2=is_valid_email(email2)\n",
    "print(result1)\n",
    "print(result2)"
   ]
  },
  {
   "cell_type": "code",
   "execution_count": 43,
   "id": "2822aaab-d411-4262-82db-74d4231ddfaf",
   "metadata": {},
   "outputs": [
    {
     "name": "stdout",
     "output_type": "stream",
     "text": [
      "example\n"
     ]
    }
   ],
   "source": [
    "#31. Extract the username from an email address string.\n",
    "\n",
    "def extract_username(email):\n",
    "    username=email.split('@')[0]\n",
    "    return username\n",
    "email1=\"example@gmail.com\"\n",
    "result1=extract_username(email1)\n",
    "print(result1)"
   ]
  },
  {
   "cell_type": "code",
   "execution_count": 42,
   "id": "3495babe-e9de-484d-ab9e-3745455f0d67",
   "metadata": {},
   "outputs": [
    {
     "name": "stdout",
     "output_type": "stream",
     "text": [
      "gmail.com\n"
     ]
    }
   ],
   "source": [
    "#32. Extract the domain name from an email address string.\n",
    "def extract_domainname(email):\n",
    "    domainname=email.split('@')[1]\n",
    "    return domainname\n",
    "email1=\"example@gmail.com\"\n",
    "result2=extract_domainname(email1)\n",
    "print(result2)"
   ]
  },
  {
   "cell_type": "code",
   "execution_count": 44,
   "id": "df84a1b4-ff32-4089-b751-c08921f50038",
   "metadata": {},
   "outputs": [
    {
     "name": "stdout",
     "output_type": "stream",
     "text": [
      "hello world how are you\n"
     ]
    }
   ],
   "source": [
    "#33. Replace multiple spaces in a string with a single space.\n",
    "string12=\"hello    world how   are   you\"\n",
    "string13=string12.split()\n",
    "final_string=' '.join(string13)\n",
    "print(final_string)"
   ]
  },
  {
   "cell_type": "code",
   "execution_count": 48,
   "id": "7fecd457-9c1f-4de1-9b1d-06a4fd4b0434",
   "metadata": {},
   "outputs": [
    {
     "name": "stdout",
     "output_type": "stream",
     "text": [
      "True\n",
      "False\n"
     ]
    }
   ],
   "source": [
    "#34. Check if a string is a valid URL.\n",
    "from urllib.parse import urlparse\n",
    "def valid_url(url):\n",
    "    try:\n",
    "        result=urlparse(url)\n",
    "        return all([result.scheme,result.netloc])\n",
    "    except ValueError:\n",
    "        return False\n",
    "url1=\"https://example@gmail.com\"\n",
    "url2=\"invalied-email\"\n",
    "result1=valid_url(url1)\n",
    "result2=valid_url(url2)\n",
    "print(result1)\n",
    "print(result2)"
   ]
  },
  {
   "cell_type": "code",
   "execution_count": 1,
   "id": "ab354029-685a-4514-a81b-2b624609d5f2",
   "metadata": {},
   "outputs": [
    {
     "name": "stdout",
     "output_type": "stream",
     "text": [
      "Protocol 1: https\n",
      "Protocol 2: http\n",
      "Protocol 3: ftp\n"
     ]
    }
   ],
   "source": [
    "#35. Extract the protocol (http or https) from a URL string.\n",
    "def extract_protocol(url):\n",
    "    protocol_end = url.find(\"://\")\n",
    "    if protocol_end != -1:\n",
    "        protocol = url[:protocol_end]\n",
    "        return protocol\n",
    "    else:\n",
    "        return None\n",
    "\n",
    "u1 = \"https://www.example.com\"\n",
    "u2 = \"http://google.com\"\n",
    "u3 = \"ftp://ftp.example.com\"\n",
    "protocol1 = extract_protocol(u1)\n",
    "protocol2 = extract_protocol(u2)\n",
    "protocol3 = extract_protocol(u3)\n",
    "print(\"Protocol 1:\", protocol1)\n",
    "print(\"Protocol 2:\", protocol2)\n",
    "print(\"Protocol 3:\", protocol3)"
   ]
  },
  {
   "cell_type": "code",
   "execution_count": 3,
   "id": "d7389140-d5ee-4ec0-b17f-f8e81b585735",
   "metadata": {},
   "outputs": [
    {
     "name": "stdout",
     "output_type": "stream",
     "text": [
      "h:1\n",
      "e:1\n",
      "l:4\n",
      "l:4\n",
      "o:1\n",
      " :1\n",
      "p:1\n",
      "w:1\n",
      "s:2\n",
      "k:1\n",
      "i:1\n",
      "l:4\n",
      "l:4\n",
      "s:2\n"
     ]
    }
   ],
   "source": [
    "#36. Find the frequency of each character in a string.\n",
    "string=\"hello pwskills\"\n",
    "for i in string:\n",
    "    frequency=string.count(i)\n",
    "    print(str(i)+\":\"+str(frequency))"
   ]
  },
  {
   "cell_type": "code",
   "execution_count": 6,
   "id": "49e28109-b54b-4abf-b1f4-2cbe790c7d4a",
   "metadata": {},
   "outputs": [
    {
     "name": "stdout",
     "output_type": "stream",
     "text": [
      "Cleaned string: Hello world Hows it going\n"
     ]
    }
   ],
   "source": [
    "#37. Remove all punctuation from a string.\n",
    "import string\n",
    "def remove_punctuation(input_string):\n",
    "    \n",
    "    translator = str.maketrans(\"\", \"\", string.punctuation)\n",
    "    clean_string = input_string.translate(translator)\n",
    "    return clean_string\n",
    "input_str = \"Hello, world! How's it going?\"\n",
    "cleaned_str = remove_punctuation(input_str)\n",
    "print(\"Cleaned string:\", cleaned_str)"
   ]
  },
  {
   "cell_type": "code",
   "execution_count": 9,
   "id": "2f5ecdaa-aa0e-454c-825a-1c9f545e1327",
   "metadata": {},
   "outputs": [
    {
     "name": "stdout",
     "output_type": "stream",
     "text": [
      "'123' contains only digits: True\n",
      "'hello123' contains only digits: False\n"
     ]
    }
   ],
   "source": [
    "#38. Check if a string contains only digits.\n",
    "string1=\"123\"\n",
    "string2=\"hello123\"\n",
    "onlydigits=string1.isdigit()\n",
    "print(f\"'{string1}' contains only digits:\", onlydigits)\n",
    "onlydigits1=string2.isdigit()\n",
    "print(f\"'{string2}' contains only digits:\", onlydigits1)"
   ]
  },
  {
   "cell_type": "code",
   "execution_count": 11,
   "id": "f7c1adc4-eb63-4e0d-a039-22af0eb3cf03",
   "metadata": {},
   "outputs": [
    {
     "name": "stdout",
     "output_type": "stream",
     "text": [
      "'abc' contains only digits: True\n",
      "'hello123' contains only digits: False\n"
     ]
    }
   ],
   "source": [
    "#39. Check if a string contains only alphabets.\n",
    "string1=\"abc\"\n",
    "string2=\"hello123\"\n",
    "onlydigits=string1.isalpha()\n",
    "print(f\"'{string1}' contains only digits:\", onlydigits)\n",
    "onlydigits1=string2.isalpha()\n",
    "print(f\"'{string2}' contains only digits:\", onlydigits1)"
   ]
  },
  {
   "cell_type": "code",
   "execution_count": 13,
   "id": "2bde0d27-2bb6-4a51-b83d-650d1a5edb75",
   "metadata": {},
   "outputs": [
    {
     "name": "stdout",
     "output_type": "stream",
     "text": [
      "['h', 'e', 'l', 'l', 'o', ' ', 'w', 'o', 'r', 'l', 'd']\n"
     ]
    }
   ],
   "source": [
    "# 40. Convert a string to a list of characters.\n",
    "string3=\"hello world\"\n",
    "listofchar=list(string3)\n",
    "print(listofchar)"
   ]
  },
  {
   "cell_type": "code",
   "execution_count": 5,
   "id": "4527c3c9-639d-407d-bd4a-72c2af7cb3b4",
   "metadata": {},
   "outputs": [
    {
     "name": "stdout",
     "output_type": "stream",
     "text": [
      "The strings are anagrams\n",
      "None\n"
     ]
    }
   ],
   "source": [
    "#41. Check if two strings are anagrams.\n",
    "def check(s1, s2):\n",
    "    if(sorted(s1)== sorted(s2)):\n",
    "        print(\"The strings are anagrams\")\n",
    "    else:\n",
    "        print(\"The strings aren't anagrams\")      \n",
    "string1 = \"listen\"\n",
    "string2 = \"silent\"\n",
    "string3 = \"hello\"\n",
    "string4 = \"world\"\n",
    "result1=check(string1,string2)\n",
    "print(result1)"
   ]
  },
  {
   "cell_type": "code",
   "execution_count": 18,
   "id": "442f44bd-5127-4239-905c-bcfd1cafab5d",
   "metadata": {},
   "outputs": [
    {
     "name": "stdout",
     "output_type": "stream",
     "text": [
      "Encoded text: ehoor, zruog!\n"
     ]
    }
   ],
   "source": [
    "#42. Encode a string using a Caesar cipher.\n",
    "def caesar_cipher(text, shift):\n",
    "  \"\"\"\n",
    "  Encodes a string using a Caesar cipher.\n",
    "\n",
    "  Args:\n",
    "    text: The string to encode.\n",
    "    shift: The number of positions to shift each letter.\n",
    "\n",
    "  Returns:\n",
    "    The encoded string.\n",
    "  \"\"\"\n",
    "\n",
    "  # Initialize an empty string to store the encoded text.\n",
    "  encoded_text = \"\"\n",
    "\n",
    "  # Iterate through each character in the input text.\n",
    "  for char in text:\n",
    "    # Check if the character is alphabetic.\n",
    "    if char.isalpha():\n",
    "      # Calculate the encoded character's Unicode code point value by shifting it by the specified amount.\n",
    "      # Ensure the value wraps around within the lowercase alphabet range (a-z).\n",
    "      encoded_char = chr((ord(char) + shift - ord('a')) % 26 + ord('a'))\n",
    "    else:\n",
    "      # Keep non-alphabetic characters unchanged.\n",
    "      encoded_char = char\n",
    "\n",
    "    # Add the encoded character to the encoded text.\n",
    "    encoded_text += encoded_char\n",
    "\n",
    "  # Return the resulting encoded text.\n",
    "  return encoded_text\n",
    "\n",
    "# Define the input text and the shift value for encoding.\n",
    "text = \"Hello, world!\"\n",
    "shift = 3\n",
    "\n",
    "# Call the caesar_cipher function to encode the text using the specified shift.\n",
    "encoded_text = caesar_cipher(text, shift)\n",
    "\n",
    "# Print the encoded text.\n",
    "print(\"Encoded text:\", encoded_text)"
   ]
  },
  {
   "cell_type": "code",
   "execution_count": 20,
   "id": "fb8884db-4960-4ce7-8f5e-dc3189eb605f",
   "metadata": {},
   "outputs": [
    {
     "name": "stdout",
     "output_type": "stream",
     "text": [
      "Decoded text: ilmm, world!\n"
     ]
    }
   ],
   "source": [
    "#43. Decode a Caesar cipher encoded string.\n",
    "def caesar_cipher_decoder(text, shift):\n",
    "    \"\"\"\n",
    "    Decodes a string using a Caesar cipher.\n",
    "\n",
    "    Args:\n",
    "        text: The string to decode.\n",
    "        shift: The number of positions to shift each letter.\n",
    "\n",
    "    Returns:\n",
    "        The decoded string.\n",
    "    \"\"\"\n",
    "\n",
    "    # Initialize an empty string to store the decoded text\n",
    "    decoded_text = \"\"\n",
    "\n",
    "    # Loop through each character in the input text\n",
    "    for char in text:\n",
    "        # Check if the character is an alphabetic character\n",
    "        if char.isalpha():\n",
    "            # Calculate the decoded character using the shift value\n",
    "            decoded_char = chr((ord(char) - shift - ord('a')) % 26 + ord('a'))\n",
    "        else:\n",
    "            # If the character is not alphabetic, keep it unchanged\n",
    "            decoded_char = char\n",
    "\n",
    "        # Add the decoded character to the decoded text\n",
    "        decoded_text += decoded_char\n",
    "\n",
    "    # Return the fully decoded text\n",
    "    return decoded_text\n",
    "\n",
    "# Example input\n",
    "text = \"lopp, zruog!\"\n",
    "shift = 3\n",
    "\n",
    "# Call the caesar_cipher_decoder function to decode the input text\n",
    "decoded_text = caesar_cipher_decoder(text, shift)\n",
    "\n",
    "# Print the decoded text\n",
    "print(\"Decoded text:\", decoded_text)"
   ]
  },
  {
   "cell_type": "code",
   "execution_count": 22,
   "id": "c1167075-ae35-4fef-9791-052000298f4d",
   "metadata": {},
   "outputs": [
    {
     "name": "stdout",
     "output_type": "stream",
     "text": [
      "Most frequent word: hello\n"
     ]
    }
   ],
   "source": [
    "#44. Find the most frequent word in a string.\n",
    "import re\n",
    "from collections import Counter\n",
    "\n",
    "def most_frequent_word(input_string):\n",
    "    clean_string = re.sub(r'[^\\w\\s]', '', input_string).lower()\n",
    "    words = clean_string.split()\n",
    "    word_counter = Counter(words)\n",
    "    most_common_word = word_counter.most_common(1)[0][0]\n",
    "    return most_common_word\n",
    "input_str = \"Hello world, hello there! How's the world?\"\n",
    "most_common = most_frequent_word(input_str)\n",
    "print(\"Most frequent word:\", most_common)"
   ]
  },
  {
   "cell_type": "code",
   "execution_count": 23,
   "id": "abd262fe-9a81-4494-8406-624d2b08ac95",
   "metadata": {},
   "outputs": [
    {
     "name": "stdout",
     "output_type": "stream",
     "text": [
      "Unique words: {'world', 'there', 'hello', 'hows', 'the'}\n"
     ]
    }
   ],
   "source": [
    "#45. Find all unique words in a string.\n",
    "import re\n",
    "\n",
    "def unique_words(input_string):\n",
    "    clean_string = re.sub(r'[^\\w\\s]', '', input_string).lower()\n",
    "    words = set(clean_string.split())\n",
    "    return words\n",
    "input_str = \"Hello world, hello there! How's the world?\"\n",
    "unique_word_set = unique_words(input_str)\n",
    "print(\"Unique words:\", unique_word_set)"
   ]
  },
  {
   "cell_type": "code",
   "execution_count": 24,
   "id": "f1c89563-2335-4901-91b5-f35f90543a41",
   "metadata": {},
   "outputs": [
    {
     "name": "stdout",
     "output_type": "stream",
     "text": [
      "'hello' has 2 syllables.\n",
      "'banana' has 3 syllables.\n",
      "'syllable' has 3 syllables.\n"
     ]
    }
   ],
   "source": [
    "#46. Count the number of syllables in a string\n",
    "import re\n",
    "def count_syllables(word):\n",
    "    vowel_groups = re.findall(r'[aeiouy]+', word, re.IGNORECASE)\n",
    "    return len(vowel_groups)\n",
    "word1 = \"hello\"\n",
    "word2 = \"banana\"\n",
    "word3 = \"syllable\"\n",
    "syllables1 = count_syllables(word1)\n",
    "syllables2 = count_syllables(word2)\n",
    "syllables3 = count_syllables(word3)\n",
    "print(f\"'{word1}' has {syllables1} syllables.\")\n",
    "print(f\"'{word2}' has {syllables2} syllables.\")\n",
    "print(f\"'{word3}' has {syllables3} syllables.\")"
   ]
  },
  {
   "cell_type": "code",
   "execution_count": 25,
   "id": "4425627a-8667-4725-9e3b-1c0609947200",
   "metadata": {},
   "outputs": [
    {
     "name": "stdout",
     "output_type": "stream",
     "text": [
      "'Hello, world!' contains special characters: True\n",
      "'This is a test.' contains special characters: True\n",
      "'Special@Characters' contains special characters: True\n"
     ]
    }
   ],
   "source": [
    "# 47. Check if a string contains any special characters.\n",
    "import re\n",
    "def contains_special_characters(input_string):\n",
    "    pattern = re.compile(r'[!@#$%^&*()_+{}\\[\\]:;<>,.?~\\\\/]')\n",
    "    match = pattern.search(input_string)\n",
    "    return bool(match)\n",
    "string1 = \"Hello, world!\"\n",
    "string2 = \"This is a test.\"\n",
    "string3 = \"Special@Characters\"\n",
    "result1 = contains_special_characters(string1)\n",
    "result2 = contains_special_characters(string2)\n",
    "result3 = contains_special_characters(string3)\n",
    "print(f\"'{string1}' contains special characters:\", result1)\n",
    "print(f\"'{string2}' contains special characters:\", result2)\n",
    "print(f\"'{string3}' contains special characters:\", result3)"
   ]
  },
  {
   "cell_type": "code",
   "execution_count": 26,
   "id": "36fa1e25-b801-46f8-b7ff-36c2c773592a",
   "metadata": {},
   "outputs": [
    {
     "name": "stdout",
     "output_type": "stream",
     "text": [
      "Original string: This is an example sentence to test the function.\n",
      "Modified string: This is an sentence to test the function.\n",
      "Removed word: example\n"
     ]
    }
   ],
   "source": [
    "# 48. Remove the nth word from a string.\n",
    "def remove_nth_word(input_string, n):\n",
    "    words = input_string.split()\n",
    "    if n >= 1 and n <= len(words):\n",
    "        removed_word = words.pop(n - 1)\n",
    "        modified_string = ' '.join(words)\n",
    "        return modified_string, removed_word\n",
    "    else:\n",
    "        return None, None\n",
    "input_str = \"This is an example sentence to test the function.\"\n",
    "n_value = 4\n",
    "modified_str, removed_word = remove_nth_word(input_str, n_value)\n",
    "print(\"Original string:\", input_str)\n",
    "if modified_str is not None:\n",
    "    print(\"Modified string:\", modified_str)\n",
    "    print(\"Removed word:\", removed_word)\n",
    "else:\n",
    "    print(\"Invalid n value.\")"
   ]
  },
  {
   "cell_type": "code",
   "execution_count": null,
   "id": "2c3eb24b-5ccc-402b-ba41-375a7ac09a11",
   "metadata": {},
   "outputs": [],
   "source": [
    "# 49. Insert a word at the nth position in a string.\n",
    "def insert_word_at_n(input_string, word_to_insert, n):\n",
    "    words = input_string.split()\n",
    "    if n >= 0 and n <= len(words):\n",
    "        words.insert(n, word_to_insert)\n",
    "        modified_string = ' '.join(words)\n",
    "        return modified_string\n",
    "    else:\n",
    "        return None\n",
    "input_str = \"This is a test string.\"\n",
    "word_to_insert = \"sample\"\n",
    "n_value = 3\n",
    "modified_str = insert_word_at_n(input_str, word_to_insert, n_value)\n",
    "print(\"Original string:\", input_str)"
   ]
  },
  {
   "cell_type": "code",
   "execution_count": 27,
   "id": "6f4086f4-ac26-433f-a028-e595939c94a3",
   "metadata": {},
   "outputs": [
    {
     "name": "stdout",
     "output_type": "stream",
     "text": [
      "['Name', ' Age', ' Country']\n",
      "['John', ' 25', ' USA']\n",
      "['Alice', ' 30', ' Canada']\n",
      "['Bob', ' 22', ' UK']\n"
     ]
    }
   ],
   "source": [
    "#50. Convert a CSV string to a list of lists.\n",
    "def csv_string_to_list(csv_string):\n",
    "    lines = csv_string.split('\\n')\n",
    "    result = []\n",
    "    for line in lines:\n",
    "        fields = line.split(',')\n",
    "        result.append(fields)\n",
    "    return result\n",
    "csv_data = \"Name, Age, Country\\nJohn, 25, USA\\nAlice, 30, Canada\\nBob, 22, UK\"\n",
    "list_of_lists = csv_string_to_list(csv_data)\n",
    "for row in list_of_lists:\n",
    "    print(row)"
   ]
  },
  {
   "cell_type": "code",
   "execution_count": 75,
   "id": "d04eb5a9-f723-41b0-9028-fb8daab0e354",
   "metadata": {},
   "outputs": [
    {
     "name": "stdout",
     "output_type": "stream",
     "text": [
      "[1, 2, 3, 4, 5, 6, 7, 8, 9, 10]\n"
     ]
    }
   ],
   "source": [
    "#list based practice problem:\n",
    "#1. create  a list with integers 1 to 10\n",
    "#l=[1,2,3,4,5,6,7,8,9,10]\n",
    "l=[]\n",
    "for i in range(1,11):\n",
    "    l.append(i)\n",
    "print(l)"
   ]
  },
  {
   "cell_type": "code",
   "execution_count": 76,
   "id": "6513465d-baee-4c57-93b9-21ee4e36d792",
   "metadata": {},
   "outputs": [
    {
     "data": {
      "text/plain": [
       "[1, 2, 3, 4, 5, 6, 7, 8, 9, 10]"
      ]
     },
     "execution_count": 76,
     "metadata": {},
     "output_type": "execute_result"
    }
   ],
   "source": [
    "l"
   ]
  },
  {
   "cell_type": "code",
   "execution_count": 77,
   "id": "c83905ab-24e6-4db3-a35b-088bee7540ec",
   "metadata": {},
   "outputs": [
    {
     "name": "stdout",
     "output_type": "stream",
     "text": [
      "the length of list is: 10\n"
     ]
    }
   ],
   "source": [
    "#2.Find the length of a list without using the `len()` function.\n",
    "count=0\n",
    "for v in l:\n",
    "    count=count+1\n",
    "print(\"the length of list is:\",count)"
   ]
  },
  {
   "cell_type": "code",
   "execution_count": 78,
   "id": "3c9ce88c-963e-44f0-a8ca-76f17bd369d3",
   "metadata": {},
   "outputs": [],
   "source": [
    "# 3.Append an element to the end of a list.\n",
    "l.append(11)"
   ]
  },
  {
   "cell_type": "code",
   "execution_count": 79,
   "id": "d44e43ec-68be-417a-988c-b4f6972f46a3",
   "metadata": {},
   "outputs": [
    {
     "data": {
      "text/plain": [
       "[1, 2, 3, 4, 5, 6, 7, 8, 9, 10, 11]"
      ]
     },
     "execution_count": 79,
     "metadata": {},
     "output_type": "execute_result"
    }
   ],
   "source": [
    "l"
   ]
  },
  {
   "cell_type": "code",
   "execution_count": 80,
   "id": "719d074d-5e32-453e-8abc-a1998d662d0c",
   "metadata": {},
   "outputs": [],
   "source": [
    "#4. Insert an element at a specific index in a list.\n",
    "l.insert(5,12)"
   ]
  },
  {
   "cell_type": "code",
   "execution_count": 81,
   "id": "27a46aae-a8b9-45e3-aa8b-b845580ff935",
   "metadata": {},
   "outputs": [
    {
     "data": {
      "text/plain": [
       "[1, 2, 3, 4, 5, 12, 6, 7, 8, 9, 10, 11]"
      ]
     },
     "execution_count": 81,
     "metadata": {},
     "output_type": "execute_result"
    }
   ],
   "source": [
    "l"
   ]
  },
  {
   "cell_type": "code",
   "execution_count": 82,
   "id": "ee7d447b-714a-43cb-9b58-e702aacee533",
   "metadata": {},
   "outputs": [],
   "source": [
    "#5.Remove an element from a list by its value.\n",
    "l.remove(12)"
   ]
  },
  {
   "cell_type": "code",
   "execution_count": 83,
   "id": "cad15fda-573d-4ec3-9276-0af3d0a9d87b",
   "metadata": {},
   "outputs": [
    {
     "data": {
      "text/plain": [
       "[1, 2, 3, 4, 5, 6, 7, 8, 9, 10, 11]"
      ]
     },
     "execution_count": 83,
     "metadata": {},
     "output_type": "execute_result"
    }
   ],
   "source": [
    "l"
   ]
  },
  {
   "cell_type": "code",
   "execution_count": 84,
   "id": "e718dea3-a3e5-4962-bb29-ceec292854db",
   "metadata": {},
   "outputs": [
    {
     "data": {
      "text/plain": [
       "7"
      ]
     },
     "execution_count": 84,
     "metadata": {},
     "output_type": "execute_result"
    }
   ],
   "source": [
    "#6. Remove an element from a list by its index.\n",
    "l.pop(6)"
   ]
  },
  {
   "cell_type": "code",
   "execution_count": 85,
   "id": "ab77b871-2c10-4893-8817-e3a1f5dd4d36",
   "metadata": {},
   "outputs": [
    {
     "data": {
      "text/plain": [
       "[1, 2, 3, 4, 5, 6, 8, 9, 10, 11]"
      ]
     },
     "execution_count": 85,
     "metadata": {},
     "output_type": "execute_result"
    }
   ],
   "source": [
    "l"
   ]
  },
  {
   "cell_type": "code",
   "execution_count": 86,
   "id": "ed5e25e6-fd54-4307-878a-fa9caf703554",
   "metadata": {},
   "outputs": [
    {
     "name": "stdout",
     "output_type": "stream",
     "text": [
      "element exists\n"
     ]
    }
   ],
   "source": [
    "#7. Check if an element exists in a list.\n",
    "i=9\n",
    "if i in l:\n",
    "   print(\"element exists\")\n",
    "else:\n",
    "    print(\"elemnt not exists\")"
   ]
  },
  {
   "cell_type": "code",
   "execution_count": 87,
   "id": "034cccab-5106-456b-814c-6252896bedcb",
   "metadata": {},
   "outputs": [
    {
     "data": {
      "text/plain": [
       "1"
      ]
     },
     "execution_count": 87,
     "metadata": {},
     "output_type": "execute_result"
    }
   ],
   "source": [
    "# 8. Find the index of the first occurrence of an element in a list.\n",
    "l1=[1,2,3,4,2,3,5,6,3]\n",
    "l1.index(2)"
   ]
  },
  {
   "cell_type": "code",
   "execution_count": 88,
   "id": "80eb4241-ee95-4e50-b9fd-b44e8e6e0d3c",
   "metadata": {},
   "outputs": [
    {
     "data": {
      "text/plain": [
       "3"
      ]
     },
     "execution_count": 88,
     "metadata": {},
     "output_type": "execute_result"
    }
   ],
   "source": [
    "# 9. Count the occurrences of an element in a list.\n",
    "l1.count(3)"
   ]
  },
  {
   "cell_type": "code",
   "execution_count": 89,
   "id": "7d388ea6-f06f-43af-b67f-d720b366b01c",
   "metadata": {},
   "outputs": [],
   "source": [
    "# 10. Reverse the order of elements in a list.\n",
    "l.reverse()"
   ]
  },
  {
   "cell_type": "code",
   "execution_count": 90,
   "id": "6cc08536-7ae6-43e3-9cdd-ea256e9cba2f",
   "metadata": {},
   "outputs": [
    {
     "data": {
      "text/plain": [
       "[11, 10, 9, 8, 6, 5, 4, 3, 2, 1]"
      ]
     },
     "execution_count": 90,
     "metadata": {},
     "output_type": "execute_result"
    }
   ],
   "source": [
    "l"
   ]
  },
  {
   "cell_type": "code",
   "execution_count": 91,
   "id": "2af2d126-3609-4312-940d-8a410a6a371e",
   "metadata": {},
   "outputs": [],
   "source": [
    "# 11.Sort a list in ascending order.\n",
    "l.sort()"
   ]
  },
  {
   "cell_type": "code",
   "execution_count": 92,
   "id": "b043235a-9297-408d-b4d2-e86a977a110f",
   "metadata": {},
   "outputs": [
    {
     "data": {
      "text/plain": [
       "[1, 2, 3, 4, 5, 6, 8, 9, 10, 11]"
      ]
     },
     "execution_count": 92,
     "metadata": {},
     "output_type": "execute_result"
    }
   ],
   "source": [
    "l"
   ]
  },
  {
   "cell_type": "code",
   "execution_count": 93,
   "id": "9623517e-71d7-40c3-b59b-c036009e5a22",
   "metadata": {},
   "outputs": [],
   "source": [
    "# 12.Sort a list in descending order.\n",
    "l.sort(reverse=True)"
   ]
  },
  {
   "cell_type": "code",
   "execution_count": 94,
   "id": "e46db8bc-3ccd-4364-8446-c52287a12c88",
   "metadata": {},
   "outputs": [
    {
     "data": {
      "text/plain": [
       "[11, 10, 9, 8, 6, 5, 4, 3, 2, 1]"
      ]
     },
     "execution_count": 94,
     "metadata": {},
     "output_type": "execute_result"
    }
   ],
   "source": [
    "l"
   ]
  },
  {
   "cell_type": "code",
   "execution_count": 95,
   "id": "0a5ec3ec-7457-4099-a748-fbd84e6f3cee",
   "metadata": {},
   "outputs": [
    {
     "name": "stdout",
     "output_type": "stream",
     "text": [
      "[2, 4, 6, 8, 10, 12, 14, 16, 18, 20]\n"
     ]
    }
   ],
   "source": [
    "# 13 Create a list of even numbers from 1 to 20.\n",
    "l2=[]\n",
    "for i in range(2,21,2):\n",
    "    l2.append(i)\n",
    "print(l2)"
   ]
  },
  {
   "cell_type": "markdown",
   "id": "2a9ff504-a93f-414c-ab57-de6bd49e59ce",
   "metadata": {},
   "source": []
  },
  {
   "cell_type": "code",
   "execution_count": 96,
   "id": "cf1fb1ab-45a6-4d68-9a8e-1a7d04e2f4c4",
   "metadata": {},
   "outputs": [
    {
     "name": "stdout",
     "output_type": "stream",
     "text": [
      "[1, 3, 5, 7, 9, 11, 13, 15, 17, 19] "
     ]
    }
   ],
   "source": [
    "# 14 Create a list of odd numbers from 1 to 20.\n",
    "l3=[]\n",
    "for i in range(1,20,2):\n",
    "    l3.append(i)\n",
    "print(l3,end=\" \")"
   ]
  },
  {
   "cell_type": "code",
   "execution_count": 97,
   "id": "25afa5f1-aac4-4433-857b-c8753e66e114",
   "metadata": {},
   "outputs": [
    {
     "name": "stdout",
     "output_type": "stream",
     "text": [
      "the sum of elements is: 59\n"
     ]
    }
   ],
   "source": [
    "# 15. Find the sum of all elements in a list.\n",
    "sum=0\n",
    "for v in l:\n",
    "    sum=sum+v\n",
    "print(\"the sum of elements is:\",sum)"
   ]
  },
  {
   "cell_type": "code",
   "execution_count": 98,
   "id": "9e2e608e-1427-44fd-b2d2-3c8e2b94cdbc",
   "metadata": {},
   "outputs": [
    {
     "data": {
      "text/plain": [
       "[11, 10, 9, 8, 6, 5, 4, 3, 2, 1]"
      ]
     },
     "execution_count": 98,
     "metadata": {},
     "output_type": "execute_result"
    }
   ],
   "source": [
    "l"
   ]
  },
  {
   "cell_type": "code",
   "execution_count": 99,
   "id": "dda27b9c-9c89-4d81-8483-bd3755d8ca79",
   "metadata": {},
   "outputs": [
    {
     "name": "stdout",
     "output_type": "stream",
     "text": [
      "maximum value is: 11\n"
     ]
    }
   ],
   "source": [
    "#16 Find the maximum value in a list.\n",
    "maximum=max(l)\n",
    "print(\"maximum value is:\",maximum)"
   ]
  },
  {
   "cell_type": "code",
   "execution_count": 100,
   "id": "c14f6f98-79c1-4030-bf1a-7389ac5bfe0a",
   "metadata": {},
   "outputs": [
    {
     "name": "stdout",
     "output_type": "stream",
     "text": [
      "minimum value is: 1\n"
     ]
    }
   ],
   "source": [
    "# 17 Find the minimum value in a list.\n",
    "minimum=min(l)\n",
    "print(\"minimum value is:\",minimum)"
   ]
  },
  {
   "cell_type": "code",
   "execution_count": 101,
   "id": "3faff47a-8c56-4394-aa8e-9ae377da170f",
   "metadata": {},
   "outputs": [
    {
     "name": "stdout",
     "output_type": "stream",
     "text": [
      "1 4 9 16 25 36 49 64 81 100 "
     ]
    }
   ],
   "source": [
    "#18 Create a list of squares of numbers from 1 to 10.\n",
    "l4=[]\n",
    "for i in range(1,11):\n",
    "    squares=i**2\n",
    "    l4.append(squares)\n",
    "    print(squares,end=\" \")"
   ]
  },
  {
   "cell_type": "code",
   "execution_count": 102,
   "id": "a595dc60-a37f-4f17-a16f-7b4be6f307dc",
   "metadata": {},
   "outputs": [
    {
     "data": {
      "text/plain": [
       "[1, 4, 9, 16, 25, 36, 49, 64, 81, 100]"
      ]
     },
     "execution_count": 102,
     "metadata": {},
     "output_type": "execute_result"
    }
   ],
   "source": [
    "l4"
   ]
  },
  {
   "cell_type": "code",
   "execution_count": 103,
   "id": "a3c99a48-cf68-48f4-8679-47d8c28b41f2",
   "metadata": {},
   "outputs": [
    {
     "name": "stdout",
     "output_type": "stream",
     "text": [
      "[5]\n",
      "[5, 4]\n",
      "[5, 4, 6]\n",
      "[5, 4, 6, 3]\n",
      "[5, 4, 6, 3, 8]\n",
      "[5, 4, 6, 3, 8, 9]\n",
      "[5, 4, 6, 3, 8, 9, 9]\n",
      "[5, 4, 6, 3, 8, 9, 9, 6]\n",
      "[5, 4, 6, 3, 8, 9, 9, 6, 5]\n",
      "[5, 4, 6, 3, 8, 9, 9, 6, 5, 3]\n"
     ]
    }
   ],
   "source": [
    "# 19. Create a list of random numbers.\n",
    "import random\n",
    "rand=[]\n",
    "for i in range(10):\n",
    "    rand.append(random.randint(3,9))\n",
    "    print(rand)"
   ]
  },
  {
   "cell_type": "code",
   "execution_count": 104,
   "id": "ca134ffc-c2ca-4a17-b0a5-29d045b85e02",
   "metadata": {},
   "outputs": [],
   "source": [
    "#20. Remove duplicates from a list.\n",
    "l5=[1,2,3,4,1,2,3,5,6]"
   ]
  },
  {
   "cell_type": "code",
   "execution_count": 105,
   "id": "e73ae0cf-e749-4d25-97e3-1a9b94f7a4b0",
   "metadata": {},
   "outputs": [
    {
     "name": "stdout",
     "output_type": "stream",
     "text": [
      "after remvoing duplicates\n",
      ": {1, 2, 3, 4, 5, 6}\n"
     ]
    }
   ],
   "source": [
    "dup=set(l5)\n",
    "print(\"after remvoing duplicates\\n:\",dup)"
   ]
  },
  {
   "cell_type": "code",
   "execution_count": 106,
   "id": "ba020973-55e3-4925-968c-35592ce2dca5",
   "metadata": {},
   "outputs": [
    {
     "name": "stdout",
     "output_type": "stream",
     "text": [
      "common elements [3, 4, 5, 'don']\n"
     ]
    }
   ],
   "source": [
    "#21 Find the common elements between two lists.\n",
    "l6=[1,2,3,4,5,\"don\"]\n",
    "l7=[7,6,5,4,3,\"don\"]\n",
    "common_list = [x for x in l6 if x in l7]\n",
    "print(\"common elements\",common_list)"
   ]
  },
  {
   "cell_type": "code",
   "execution_count": 18,
   "id": "26ca6725-0978-40d5-9390-39394e985d78",
   "metadata": {},
   "outputs": [
    {
     "name": "stdout",
     "output_type": "stream",
     "text": [
      "[20, 10]\n"
     ]
    }
   ],
   "source": [
    "# 22. Find the difference between two lists.\n",
    "list50=[10,20,30,40]\n",
    "list51=[30,40,50,60]\n",
    "difference=list(set(list50).difference(list51))\n",
    "print(difference)"
   ]
  },
  {
   "cell_type": "code",
   "execution_count": 108,
   "id": "994c5196-acf5-47e2-b316-5b637cea1127",
   "metadata": {},
   "outputs": [
    {
     "name": "stdout",
     "output_type": "stream",
     "text": [
      "[1, 2, 3, 4, 5, 'don', 7, 6, 5, 4, 3, 'don']\n"
     ]
    }
   ],
   "source": [
    "# 23. Merge two lists.\n",
    "l8=l6+l7\n",
    "print(l8)"
   ]
  },
  {
   "cell_type": "code",
   "execution_count": 109,
   "id": "f6cd600c-0950-4dfa-a6a5-99d2c64898ca",
   "metadata": {},
   "outputs": [
    {
     "name": "stdout",
     "output_type": "stream",
     "text": [
      "2 4 6 8 2 4 6 10 12 "
     ]
    }
   ],
   "source": [
    "# 24. Multiply all elements in a list by 2.\n",
    "# for v in l5:\n",
    "for v in l5:\n",
    "    t= v*2\n",
    "    print(t,end=\" \")"
   ]
  },
  {
   "cell_type": "code",
   "execution_count": 110,
   "id": "9d93d261-66d3-4e0e-9f28-c7d604f84dc4",
   "metadata": {},
   "outputs": [
    {
     "name": "stdout",
     "output_type": "stream",
     "text": [
      "even numbers: [2, 4, 6, 8, 10]\n"
     ]
    }
   ],
   "source": [
    "# 25. Filter out all even numbers from a list.\n",
    "l9=[1,2,3,4,5,6,7,8,9,10]\n",
    "even=[]\n",
    "for v in l9:\n",
    "    if v%2==0:\n",
    "       even.append(v)\n",
    "print(\"even numbers:\",even)"
   ]
  },
  {
   "cell_type": "code",
   "execution_count": 118,
   "id": "4984d384-e9d2-408d-80ac-6a3bf8bc2109",
   "metadata": {},
   "outputs": [
    {
     "name": "stdout",
     "output_type": "stream",
     "text": [
      "1 2 3 "
     ]
    }
   ],
   "source": [
    "# 26. Convert a list of strings to a list of integers.\n",
    "st=['1','2','3']\n",
    "for x in st:\n",
    "    print(int(x),end=\" \")\n"
   ]
  },
  {
   "cell_type": "code",
   "execution_count": 117,
   "id": "ca746f01-5651-480d-812b-1d28adcd8d8f",
   "metadata": {},
   "outputs": [
    {
     "name": "stdout",
     "output_type": "stream",
     "text": [
      "1 2 3 "
     ]
    }
   ],
   "source": [
    "# 27. Convert a list of integers to a list of strings.\n",
    "nt=[1,2,3]\n",
    "for x in nt:\n",
    "    print(str(x),end=\" \")\n",
    "    "
   ]
  },
  {
   "cell_type": "code",
   "execution_count": 21,
   "id": "f83458ee-c5c7-4126-afd2-604030724146",
   "metadata": {},
   "outputs": [
    {
     "name": "stdout",
     "output_type": "stream",
     "text": [
      "[1, 2, 3, 4, 5, 6, 7, 8]\n"
     ]
    }
   ],
   "source": [
    "#28. Flatten a nested list\n",
    "nested_list=[[1,2,3],[4,5],[6,7,8]]\n",
    "def flatten_list(nested):\n",
    "    flattend=[]\n",
    "    for sublist in nested:\n",
    "        if isinstance(sublist,list):\n",
    "            flattend.extend(flatten_list(sublist))\n",
    "        else:\n",
    "            flattend.append(sublist)\n",
    "    return flattend\n",
    "flattened_list=flatten_list(nested_list)\n",
    "print(flattened_list)"
   ]
  },
  {
   "cell_type": "code",
   "execution_count": 15,
   "id": "79bb4b37-9a9d-428d-86d2-a6d4df8f9837",
   "metadata": {},
   "outputs": [
    {
     "name": "stdout",
     "output_type": "stream",
     "text": [
      "Fibonacci Series: 0 1 1 2 3 5 8 13 21 34 "
     ]
    }
   ],
   "source": [
    "#29. Create a list of the first 10 Fibonacci numbers.\n",
    "num = 10\n",
    "n1, n2 = 0, 1\n",
    "print(\"Fibonacci Series:\", n1, n2, end=\" \")\n",
    "for i in range(2, num):\n",
    "    n3 = n1 + n2\n",
    "    n1 = n2\n",
    "    n2 = n3\n",
    "    print(n3, end=\" \")"
   ]
  },
  {
   "cell_type": "code",
   "execution_count": 120,
   "id": "2ba0693f-bc58-4161-9863-5f89ba861cc5",
   "metadata": {},
   "outputs": [
    {
     "name": "stdout",
     "output_type": "stream",
     "text": [
      "not sorted\n"
     ]
    }
   ],
   "source": [
    "# 30. Check if a list is sorted.\n",
    "l11=[2,4,3,1]\n",
    "if l11==l11.sort():\n",
    "    print(\"given list sorted\")\n",
    "else:\n",
    "    print(\"not sorted\")\n",
    "#l11.sort()\n",
    "#print(l11)"
   ]
  },
  {
   "cell_type": "code",
   "execution_count": 22,
   "id": "407cc7ee-6580-4886-8be7-05adaadb561d",
   "metadata": {},
   "outputs": [
    {
     "name": "stdout",
     "output_type": "stream",
     "text": [
      "[4, 5, 1, 2, 3]\n"
     ]
    }
   ],
   "source": [
    "# 31. Rotate a list to the left by `n` positions.\n",
    "def rotate_left(lst,n):\n",
    "    n=n%len(lst)\n",
    "    rotate_list=lst[n:]+lst[:n]\n",
    "    return rotate_list\n",
    "t23=[1,2,3,4,5]\n",
    "n=3\n",
    "result=rotate_left(t23,n)\n",
    "print(result)\n"
   ]
  },
  {
   "cell_type": "code",
   "execution_count": 24,
   "id": "92884de5-ee82-4c4e-b046-583ad1b34002",
   "metadata": {},
   "outputs": [
    {
     "name": "stdout",
     "output_type": "stream",
     "text": [
      "[3, 4, 5, 1, 2]\n"
     ]
    }
   ],
   "source": [
    "#32. Rotate a list to the right by n positions\n",
    "def rotate_right(lst,n):\n",
    "    n=n%len(lst)\n",
    "    rotate_list=lst[-n:]+lst[:-n]\n",
    "    return rotate_list\n",
    "t23=[1,2,3,4,5]\n",
    "n=3\n",
    "result=rotate_right(t23,n)\n",
    "print(result)"
   ]
  },
  {
   "cell_type": "code",
   "execution_count": 24,
   "id": "ccf9ea8e-2a8c-4250-b80d-08d24928605d",
   "metadata": {},
   "outputs": [
    {
     "name": "stdout",
     "output_type": "stream",
     "text": [
      "[2, 3, 5, 7, 11, 13, 17, 19, 23, 29, 31, 37, 41, 43, 47]\n"
     ]
    }
   ],
   "source": [
    "# 33. Create a list of prime numbers up to 50.\n",
    "def prime_numbers(n):\n",
    "    primes = []\n",
    "    for i in range(2, n + 1):\n",
    "        for j in range(2, int(i ** 0.5) + 1):\n",
    "            if i%j == 0:\n",
    "                break\n",
    "        else:\n",
    "            primes.append(i)\n",
    "    return primes\n",
    "\n",
    "prime_list = prime_numbers(50)\n",
    "print(prime_list)"
   ]
  },
  {
   "cell_type": "code",
   "execution_count": null,
   "id": "89b57457-c01a-49e4-800c-70ce0719315e",
   "metadata": {},
   "outputs": [],
   "source": [
    "# 34 split a list into chunks of size n\n"
   ]
  },
  {
   "cell_type": "code",
   "execution_count": 41,
   "id": "0ef8789f-493c-4cb2-87ac-c8028ac30f7c",
   "metadata": {},
   "outputs": [
    {
     "name": "stdout",
     "output_type": "stream",
     "text": [
      "9\n"
     ]
    }
   ],
   "source": [
    "# 35. Find the second largest number in a list.\n",
    "l12=[2,3,4,5,6,5,8,9,8,10]\n",
    "l12.sort()\n",
    "print(l12[-2])"
   ]
  },
  {
   "cell_type": "code",
   "execution_count": 121,
   "id": "1fb5914d-f6bc-42c5-83df-022594c13ab3",
   "metadata": {},
   "outputs": [
    {
     "name": "stdout",
     "output_type": "stream",
     "text": [
      "1 4 9 36 25 "
     ]
    }
   ],
   "source": [
    "# 36. Replace every element in a list with its square.\n",
    "l13=[1,2,3,6,5]\n",
    "for v in l13:\n",
    "    v=v**2\n",
    "    print(v,end=\" \")"
   ]
  },
  {
   "cell_type": "code",
   "execution_count": 25,
   "id": "7c7929da-dc22-4f61-8ff8-6fd633a7634c",
   "metadata": {},
   "outputs": [
    {
     "name": "stdout",
     "output_type": "stream",
     "text": [
      "{'apple': 0, 'banana': 1, 'cherry': 2}\n"
     ]
    }
   ],
   "source": [
    "#37. Convert a list to a dictionary where list elements become keys and their indices become values.\n",
    "list11=[\"apple\",\"banana\",\"cherry\"]\n",
    "dictionary={element: index for index, element in enumerate(list11)}\n",
    "print(dictionary)"
   ]
  },
  {
   "cell_type": "code",
   "execution_count": 27,
   "id": "839ac484-ad3e-4ad0-9fe9-a6948faddedc",
   "metadata": {},
   "outputs": [
    {
     "name": "stdout",
     "output_type": "stream",
     "text": [
      "[3, 4, 1, 5, 7, 2, 6]\n"
     ]
    }
   ],
   "source": [
    "# 38. Shuffle the elements of a list randomly.\n",
    "import random\n",
    "list12=[1,2,3,4,5,6,7]\n",
    "random.shuffle(list12)\n",
    "print(list12)"
   ]
  },
  {
   "cell_type": "code",
   "execution_count": 131,
   "id": "dcc48abd-2a25-4b1f-ad9a-e683906ead1d",
   "metadata": {},
   "outputs": [
    {
     "name": "stdout",
     "output_type": "stream",
     "text": [
      "1 2 6 24 120 720 5040 40320 362880 3628800 "
     ]
    }
   ],
   "source": [
    "# 39. Create a list of the first 10 factorial numbers.\n",
    "fact=1\n",
    "for v in range(1,11):\n",
    "    fact=fact*v\n",
    "    print(fact,end=\" \")"
   ]
  },
  {
   "cell_type": "code",
   "execution_count": 28,
   "id": "0026e1e6-98c6-42b5-b4bf-2118b4cd1fb2",
   "metadata": {},
   "outputs": [
    {
     "name": "stdout",
     "output_type": "stream",
     "text": [
      "the lists have at least one common element\n"
     ]
    }
   ],
   "source": [
    "# 40. Check if two lists have at least one element in common.\n",
    "def common_elements(l1,l2):\n",
    "    for item in l1:\n",
    "        if item in l2:\n",
    "            return True\n",
    "    return False\n",
    "l1=[1,2,3,4,5,6]\n",
    "l2=[4,5,6,7,8]\n",
    "if common_elements(l1,l2):\n",
    "    print(\"the lists have at least one common element\")\n",
    "else:\n",
    "    print(\"the list do not have common element\")"
   ]
  },
  {
   "cell_type": "code",
   "execution_count": 56,
   "id": "850434ee-54e5-45b0-9b99-c02d3bc6ba7d",
   "metadata": {},
   "outputs": [],
   "source": [
    "# 41. Remove all elements from a list.\n",
    "l14=[1,2,3,4,5]\n",
    "l14.clear()"
   ]
  },
  {
   "cell_type": "code",
   "execution_count": 57,
   "id": "72bc0a72-368d-43fc-8cc3-12660e463ff9",
   "metadata": {},
   "outputs": [
    {
     "data": {
      "text/plain": [
       "[]"
      ]
     },
     "execution_count": 57,
     "metadata": {},
     "output_type": "execute_result"
    }
   ],
   "source": [
    "l14"
   ]
  },
  {
   "cell_type": "code",
   "execution_count": 62,
   "id": "c131bcf4-eb92-45a7-9116-6a0387890771",
   "metadata": {},
   "outputs": [
    {
     "name": "stdout",
     "output_type": "stream",
     "text": [
      "[1, 2, 3, 0, 0]\n"
     ]
    }
   ],
   "source": [
    "#42. Replace negative numbers in a list with 0.\n",
    "l15=[1,2,3,-2,-6]\n",
    "for v in range(len(l15)):\n",
    "    if l15[v]<0:\n",
    "        l15[v]=0\n",
    "print(l15)\n"
   ]
  },
  {
   "cell_type": "code",
   "execution_count": 63,
   "id": "6cf00dbf-43da-4130-8a1c-876585f16a3c",
   "metadata": {},
   "outputs": [
    {
     "name": "stdout",
     "output_type": "stream",
     "text": [
      "['i', 'am', 'learning', 'python']\n"
     ]
    }
   ],
   "source": [
    "# 43. Convert a string into a list of words.\n",
    "str1=\" i am learning python\"\n",
    "list1=str1.split()\n",
    "print(list1)"
   ]
  },
  {
   "cell_type": "code",
   "execution_count": 64,
   "id": "f6a88af3-aeae-48e6-a8ec-f6f4ff484987",
   "metadata": {},
   "outputs": [
    {
     "data": {
      "text/plain": [
       "'i am learning python'"
      ]
     },
     "execution_count": 64,
     "metadata": {},
     "output_type": "execute_result"
    }
   ],
   "source": [
    "# 44. Convert a list of words into a string.\n",
    "l15=[\"i am\",\"learning\",\"python\"]\n",
    "' '.join(l15)"
   ]
  },
  {
   "cell_type": "code",
   "execution_count": 29,
   "id": "8aef7717-a2ad-4a81-97cd-5047467a605d",
   "metadata": {},
   "outputs": [
    {
     "name": "stdin",
     "output_type": "stream",
     "text": [
      "enter value of n 5\n"
     ]
    },
    {
     "name": "stdout",
     "output_type": "stream",
     "text": [
      "[1, 2, 4, 8, 16]\n"
     ]
    }
   ],
   "source": [
    "# 45. Create a list of the first `n` powers of 2.\n",
    "n=int(input(\"enter value of n\"))\n",
    "power=[2**i for i in range(n)]\n",
    "print(power)"
   ]
  },
  {
   "cell_type": "code",
   "execution_count": 65,
   "id": "aa389ef8-4af3-437a-a099-af1724cf5207",
   "metadata": {},
   "outputs": [
    {
     "name": "stdout",
     "output_type": "stream",
     "text": [
      "sri\n",
      "santhosh\n"
     ]
    }
   ],
   "source": [
    "# 46. Find the longest string in a list of strings.\n",
    "# 47. Find the shortest string in a list of strings.\n",
    "l16=[\"santhosh\",\"pavitra\",\"ashwath\",\"sri\"]\n",
    "shortest=min(l16,key=len)\n",
    "longest=max(l16,key=len)\n",
    "print(shortest)\n",
    "print(longest)"
   ]
  },
  {
   "cell_type": "code",
   "execution_count": 31,
   "id": "7696646b-c139-407d-b9cc-03db0d1cb827",
   "metadata": {},
   "outputs": [
    {
     "name": "stdin",
     "output_type": "stream",
     "text": [
      "enter n value: 5\n"
     ]
    },
    {
     "name": "stdout",
     "output_type": "stream",
     "text": [
      "[1, 3, 6, 10, 15]\n"
     ]
    }
   ],
   "source": [
    "# 48. Create a list of the first `n` triangular numbers.\n",
    "def triangular(n):\n",
    "    return[i*(i+1)//2 for i in range(1,n+1)]\n",
    "n=int(input(\"enter n value:\"))\n",
    "triangular_list=triangular(n)\n",
    "print(triangular_list)\n",
    "      "
   ]
  },
  {
   "cell_type": "code",
   "execution_count": 32,
   "id": "991b012c-d6d2-49d3-b07f-09d4cf7b2f32",
   "metadata": {},
   "outputs": [
    {
     "name": "stdout",
     "output_type": "stream",
     "text": [
      "main list contains subsequence\n"
     ]
    }
   ],
   "source": [
    "# 49. Check if a list contains another list as a subsequence.\n",
    "def sub_sequence(subsequence,main):\n",
    "    index=0\n",
    "    for element in main:\n",
    "        if element==subsequence[index]:\n",
    "            index+=1\n",
    "        if index==len(subsequence):\n",
    "            return True\n",
    "    return False\n",
    "main=[1,2,3,4,5,6,7,8]\n",
    "subsequence=[3,6,8]\n",
    "if sub_sequence(subsequence,main):\n",
    "    print(\"main list contains subsequence\")\n",
    "else:\n",
    "    print(\"main list not contains subsequence\")\n",
    "            "
   ]
  },
  {
   "cell_type": "code",
   "execution_count": 68,
   "id": "e92a7825-8da0-4e12-bed1-a92781fab114",
   "metadata": {},
   "outputs": [
    {
     "name": "stdout",
     "output_type": "stream",
     "text": [
      "['tomato', 'yellow', 'pink', 'blue']\n"
     ]
    }
   ],
   "source": [
    "# 50. Swap two elements in a list by their indices.\n",
    "l17=[\"tomato\",\"blue\",\"pink\",\"yellow\"]\n",
    "l17[1],l17[3]=l17[3],l17[1]\n",
    "print(l17)"
   ]
  },
  {
   "cell_type": "code",
   "execution_count": 135,
   "id": "9eb7d3e8-3fbc-490e-94a0-705b9895f0c9",
   "metadata": {},
   "outputs": [
    {
     "name": "stdout",
     "output_type": "stream",
     "text": [
      "(1, 2, 3, 4, 5)\n"
     ]
    }
   ],
   "source": [
    "#tuple based questions\n",
    "\n",
    "# 1. Create a tuple with integers from 1 to 5.\n",
    "t=()\n",
    "for x in range(1,6):\n",
    "    t=t+(x,)\n",
    "print(t)"
   ]
  },
  {
   "cell_type": "code",
   "execution_count": 88,
   "id": "c5f15c45-19b9-4253-a7ea-19769eeb50be",
   "metadata": {},
   "outputs": [
    {
     "name": "stdout",
     "output_type": "stream",
     "text": [
      "the third element is: 3\n"
     ]
    }
   ],
   "source": [
    "# Tuple Based Practice Problem :\n",
    "# 2. Access the third element of a tuple.\n",
    "t1=(1,2,3,4,5)\n",
    "print(\"the third element is:\",t1[2])"
   ]
  },
  {
   "cell_type": "code",
   "execution_count": 89,
   "id": "67a54ddc-ac09-4615-b58f-30497a42aa89",
   "metadata": {},
   "outputs": [
    {
     "name": "stdout",
     "output_type": "stream",
     "text": [
      "5\n"
     ]
    }
   ],
   "source": [
    "# 3. Find the length of a tuple without using the `len()` function.\n",
    "count=0\n",
    "for x in t1:\n",
    "    count=count+1\n",
    "print(count)"
   ]
  },
  {
   "cell_type": "code",
   "execution_count": 136,
   "id": "e498776b-321d-4524-ba05-926c695726e6",
   "metadata": {},
   "outputs": [
    {
     "data": {
      "text/plain": [
       "3"
      ]
     },
     "execution_count": 136,
     "metadata": {},
     "output_type": "execute_result"
    }
   ],
   "source": [
    "#4. Count the occurrences of an element in a tuple.\n",
    "t2=(2,3,4,5,3,3)\n",
    "t2.count(3)"
   ]
  },
  {
   "cell_type": "code",
   "execution_count": 138,
   "id": "2df12614-2c26-449e-a7e1-0ea03734441d",
   "metadata": {},
   "outputs": [
    {
     "data": {
      "text/plain": [
       "1"
      ]
     },
     "execution_count": 138,
     "metadata": {},
     "output_type": "execute_result"
    }
   ],
   "source": [
    "'''5. Find the index of the first occurrence of an element in a tuple.'''\n",
    "t2.index(3)"
   ]
  },
  {
   "cell_type": "code",
   "execution_count": 9,
   "id": "eff914ca-30e2-4111-a7ed-c03bae1ad9d9",
   "metadata": {},
   "outputs": [
    {
     "name": "stdin",
     "output_type": "stream",
     "text": [
      "enter element 25\n"
     ]
    },
    {
     "name": "stdout",
     "output_type": "stream",
     "text": [
      "not exists\n"
     ]
    }
   ],
   "source": [
    "# 6. Check if an element exists in a tuple.\n",
    "t2=(2,3,4,5,3)\n",
    "number=input(\"enter element\")\n",
    "if number in t2:\n",
    "    print(\"element exists\")\n",
    "else:\n",
    "    print(\"not exists\")"
   ]
  },
  {
   "cell_type": "code",
   "execution_count": 10,
   "id": "72291270-d65f-4ada-bfd5-b19ad91fcec1",
   "metadata": {},
   "outputs": [
    {
     "name": "stdout",
     "output_type": "stream",
     "text": [
      "[1, 2, 3, 4, 5, 6, 7, 8, 9]\n"
     ]
    }
   ],
   "source": [
    "# 7. Convert a tuple to a list.\n",
    "t3=(1,2,3,4,5,6,7,8,9)\n",
    "print(list(t3))"
   ]
  },
  {
   "cell_type": "code",
   "execution_count": 11,
   "id": "286ed197-c511-4036-9b02-451eb1a81b54",
   "metadata": {},
   "outputs": [
    {
     "name": "stdout",
     "output_type": "stream",
     "text": [
      "(1, 2, 3, 4, 5, 6)\n"
     ]
    }
   ],
   "source": [
    "# 8. Convert a list to a tuple.\n",
    "t4=[1,2,3,4,5,6]\n",
    "print(tuple(t4))"
   ]
  },
  {
   "cell_type": "code",
   "execution_count": 15,
   "id": "ac8ea941-e434-4ff9-886f-58352226b752",
   "metadata": {},
   "outputs": [
    {
     "name": "stdout",
     "output_type": "stream",
     "text": [
      "pwskills\n",
      "26\n",
      "sudhashu\n"
     ]
    }
   ],
   "source": [
    "# 9. Unpack the elements of a tuple into variables.\n",
    "t5=(\"pwskills\",26,\"sudhashu\")\n",
    "(blog,date,mentor)=t5\n",
    "print(blog)\n",
    "print(date)\n",
    "print(mentor)"
   ]
  },
  {
   "cell_type": "code",
   "execution_count": 141,
   "id": "1050be05-cd79-44f4-aa2a-16842761a863",
   "metadata": {},
   "outputs": [
    {
     "name": "stdout",
     "output_type": "stream",
     "text": [
      "(2, 4, 6, 8, 10)\n"
     ]
    }
   ],
   "source": [
    "# 10. Create a tuple of even numbers from 1 to 10.\n",
    "t6=()\n",
    "for x in range(2,11,2):\n",
    "    t6=t6+(x,)\n",
    "print(t6)   "
   ]
  },
  {
   "cell_type": "code",
   "execution_count": 143,
   "id": "b275ee5a-d227-4454-94af-cd0260a8b749",
   "metadata": {},
   "outputs": [
    {
     "name": "stdout",
     "output_type": "stream",
     "text": [
      "(1, 3, 5, 7, 9)\n"
     ]
    }
   ],
   "source": [
    "# 11. Create a tuple of odd numbers from 1 to 10.\n",
    "t7=()\n",
    "for x in range(1,10,2):\n",
    "    t7=t7+(x,)\n",
    "print(t7)  "
   ]
  },
  {
   "cell_type": "code",
   "execution_count": 144,
   "id": "ad30545d-dd98-4918-bbd8-dbc308f91c40",
   "metadata": {},
   "outputs": [
    {
     "name": "stdout",
     "output_type": "stream",
     "text": [
      "(2, 4, 6, 8, 10, 1, 3, 5, 7, 9)\n"
     ]
    }
   ],
   "source": [
    "# 12. Concatenate two tuples.\n",
    "print(t6+t7)\n"
   ]
  },
  {
   "cell_type": "code",
   "execution_count": 149,
   "id": "d7a73439-e253-4200-92fc-e17b995770a8",
   "metadata": {},
   "outputs": [
    {
     "name": "stdout",
     "output_type": "stream",
     "text": [
      "(1, 2, 3, 1, 2, 3, 1, 2, 3)\n"
     ]
    }
   ],
   "source": [
    "# 13. Repeat a tuple three times.\n",
    "t8=(1,2,3)\n",
    "res=t8*3\n",
    "print(res)"
   ]
  },
  {
   "cell_type": "code",
   "execution_count": 152,
   "id": "77c6ba67-c05c-46c7-894d-fcc63232ac40",
   "metadata": {},
   "outputs": [
    {
     "name": "stdout",
     "output_type": "stream",
     "text": [
      "tupel is not empty\n"
     ]
    }
   ],
   "source": [
    "# 14. Check if a tuple is empty.\n",
    "t9=(2,3)\n",
    "length=len(t9)\n",
    "if length==0:\n",
    "    print(\"tuple is empty\")\n",
    "else:\n",
    "    print(\"tupel is not empty\")"
   ]
  },
  {
   "cell_type": "code",
   "execution_count": 2,
   "id": "715d3521-1a75-42cd-b1a0-bba6929b678d",
   "metadata": {},
   "outputs": [
    {
     "name": "stdout",
     "output_type": "stream",
     "text": [
      "((1, 3, 5), (3, 5, 7), ('a', 'b', 'c'))\n"
     ]
    }
   ],
   "source": [
    "# 15. Create a nested tuple.\n",
    "t10=((1,3,5),(3,5,7),('a','b','c'))\n",
    "print(t10)"
   ]
  },
  {
   "cell_type": "code",
   "execution_count": 3,
   "id": "f856d012-63e6-4e48-8e6a-6ef4d7bb5ea4",
   "metadata": {},
   "outputs": [
    {
     "name": "stdout",
     "output_type": "stream",
     "text": [
      "first element of a nested tuple: (1, 3, 5)\n"
     ]
    }
   ],
   "source": [
    "# 16. Access the first element of a nested tuple.\n",
    "first_element=t10[0]\n",
    "print(\"first element of a nested tuple:\",first_element)"
   ]
  },
  {
   "cell_type": "code",
   "execution_count": 4,
   "id": "c10b814a-c97c-4ab1-8817-ef2958b073eb",
   "metadata": {},
   "outputs": [
    {
     "name": "stdout",
     "output_type": "stream",
     "text": [
      "tuple with a single element: (5,)\n"
     ]
    }
   ],
   "source": [
    "# 17. Create a tuple with a single element.\n",
    "t11=(5,)\n",
    "print(\"tuple with a single element:\",t11)"
   ]
  },
  {
   "cell_type": "code",
   "execution_count": 8,
   "id": "ec39b2da-126d-434f-9330-3726accc5906",
   "metadata": {},
   "outputs": [
    {
     "name": "stdout",
     "output_type": "stream",
     "text": [
      "checking equality: False\n",
      "checking inequality: True\n",
      "lesshan:  True\n",
      "lesshan or equal:  True\n",
      "greater than:  False\n",
      "greaterthan or equal:  False\n"
     ]
    }
   ],
   "source": [
    "# 18.compare two tuples\n",
    "t12=(1,2,3)\n",
    "t13=(1,4,3)\n",
    "print(\"checking equality:\",t12==t13)\n",
    "print(\"checking inequality:\",t12!=t13)\n",
    "print(\"lesshan: \",t12<t13)\n",
    "print(\"lesshan or equal: \",t12<=t13)\n",
    "print(\"greater than: \",t12>t13)\n",
    "print(\"greaterthan or equal: \",t12>=t13)"
   ]
  },
  {
   "cell_type": "code",
   "execution_count": 11,
   "id": "112a97fb-50a9-4f59-b8b4-fbe77fb3c86b",
   "metadata": {},
   "outputs": [
    {
     "ename": "NameError",
     "evalue": "name 't13' is not defined",
     "output_type": "error",
     "traceback": [
      "\u001b[0;31m---------------------------------------------------------------------------\u001b[0m",
      "\u001b[0;31mNameError\u001b[0m                                 Traceback (most recent call last)",
      "Cell \u001b[0;32mIn[11], line 4\u001b[0m\n\u001b[1;32m      2\u001b[0m t13\u001b[38;5;241m=\u001b[39m(\u001b[38;5;241m1\u001b[39m,\u001b[38;5;241m2\u001b[39m,\u001b[38;5;241m3\u001b[39m)\n\u001b[1;32m      3\u001b[0m \u001b[38;5;28;01mdel\u001b[39;00m t13\n\u001b[0;32m----> 4\u001b[0m \u001b[38;5;28mprint\u001b[39m(\u001b[43mt13\u001b[49m)\n",
      "\u001b[0;31mNameError\u001b[0m: name 't13' is not defined"
     ]
    }
   ],
   "source": [
    "# 19. Delete a tuple.\n",
    "t13=(1,2,3)\n",
    "del t13\n",
    "print(t13)"
   ]
  },
  {
   "cell_type": "code",
   "execution_count": 12,
   "id": "df50d350-1619-4603-a693-4a4364fcb1a0",
   "metadata": {},
   "outputs": [
    {
     "name": "stdout",
     "output_type": "stream",
     "text": [
      "(3, 4, 5, 6)\n"
     ]
    }
   ],
   "source": [
    "# 20. Slice a tuple.\n",
    "t14=(1,2,3,4,5,6,7,8,9,10,11)\n",
    "sl=t14[2:6]\n",
    "print(sl)"
   ]
  },
  {
   "cell_type": "code",
   "execution_count": 16,
   "id": "9813a487-f2cb-42f0-b2cd-62cd29d47ae0",
   "metadata": {},
   "outputs": [
    {
     "name": "stdout",
     "output_type": "stream",
     "text": [
      "the maximum value is: 11\n"
     ]
    }
   ],
   "source": [
    "#21. Find the maximum value in a tuple.\n",
    "max_value=max(t14)\n",
    "print(\"the maximum value is:\",max_value)"
   ]
  },
  {
   "cell_type": "code",
   "execution_count": 17,
   "id": "3c192113-f123-40d7-ac02-8f12729ae3b5",
   "metadata": {},
   "outputs": [
    {
     "name": "stdout",
     "output_type": "stream",
     "text": [
      "the minimum value is: 1\n"
     ]
    }
   ],
   "source": [
    "#22. Find the minimum value in a tuple.\n",
    "min_value=min(t14)\n",
    "print(\"the minimum value is:\",min_value)"
   ]
  },
  {
   "cell_type": "code",
   "execution_count": 19,
   "id": "baba2b02-2718-4e1b-90a0-f15301d8e307",
   "metadata": {},
   "outputs": [
    {
     "name": "stdout",
     "output_type": "stream",
     "text": [
      "('m', 'y', ' ', 'w', 'o', 'r', 'k', ' ', 'i', 's', ' ', 'd', 'o', 'n', 'e')\n"
     ]
    }
   ],
   "source": [
    "#23. Convert a string to a tuple of characters.\n",
    "string=\"my work is done\"\n",
    "tuples_char=tuple(string)\n",
    "print(tuples_char)"
   ]
  },
  {
   "cell_type": "code",
   "execution_count": 2,
   "id": "50d710d1-7cf0-4307-a438-25e237e134dc",
   "metadata": {},
   "outputs": [
    {
     "name": "stdout",
     "output_type": "stream",
     "text": [
      "Hi everyone\n"
     ]
    }
   ],
   "source": [
    "# 24. Convert a tuple of characters to a string.\n",
    "tuples_char=('H','i',' ','e','v','e','r','y','o','n','e')\n",
    "string_tuple=''.join(tuples_char)\n",
    "print(string_tuple)\n"
   ]
  },
  {
   "cell_type": "code",
   "execution_count": 3,
   "id": "4ca53022-3be8-4898-abc1-d352b2000781",
   "metadata": {},
   "outputs": [
    {
     "name": "stdout",
     "output_type": "stream",
     "text": [
      "(2, 'hi', 3.15, False)\n"
     ]
    }
   ],
   "source": [
    "#25. Create a tuple from multiple data types.\n",
    "t15=(2,\"hi\",3.15,False)\n",
    "print(t15)"
   ]
  },
  {
   "cell_type": "code",
   "execution_count": 7,
   "id": "0dd06f30-f734-47f6-aa48-9282fd85183e",
   "metadata": {},
   "outputs": [
    {
     "name": "stdout",
     "output_type": "stream",
     "text": [
      "check tuples are idetical or not: False\n"
     ]
    }
   ],
   "source": [
    "# 26. Check if two tuples are identical.\n",
    "t16=(1,2,3)\n",
    "t17=(2,3,4)\n",
    "print(\"check tuples are idetical or not:\",t16==t17)"
   ]
  },
  {
   "cell_type": "code",
   "execution_count": 8,
   "id": "fed224c2-2880-4a29-8d4f-b80bb9a3cf45",
   "metadata": {},
   "outputs": [
    {
     "name": "stdout",
     "output_type": "stream",
     "text": [
      "sorted tuple is: (1, 2, 3, 5, 6, 8, 9)\n"
     ]
    }
   ],
   "source": [
    "# 27. Sort the elements of a tuple.\n",
    "t18=(3,5,8,1,6,9,2)\n",
    "sort=tuple(sorted(t18))\n",
    "print(\"sorted tuple is:\",sort)"
   ]
  },
  {
   "cell_type": "code",
   "execution_count": 14,
   "id": "3550d326-4956-4252-86cc-075405ac9aaf",
   "metadata": {},
   "outputs": [
    {
     "name": "stdout",
     "output_type": "stream",
     "text": [
      "tuple of strings: ('1', '2', '3', '4', '5')\n"
     ]
    }
   ],
   "source": [
    "# 28. Convert a tuple of integers to a tuple of strings.\n",
    "t19=(1,2,3,4,5)\n",
    "y=tuple(str(x) for x in t19)\n",
    "print(\"tuple of strings:\",y)"
   ]
  },
  {
   "cell_type": "code",
   "execution_count": 15,
   "id": "4664c6e7-c805-4af0-8498-56f8e1496801",
   "metadata": {},
   "outputs": [
    {
     "name": "stdout",
     "output_type": "stream",
     "text": [
      "tuple of integers: (1, 2, 3, 4, 5)\n"
     ]
    }
   ],
   "source": [
    "#29. Convert a tuple of strings to a tuple of integers.\n",
    "t20=('1','2','3','4','5')\n",
    "y=tuple(int(x) for x in t20)\n",
    "print(\"tuple of integers:\",y)"
   ]
  },
  {
   "cell_type": "code",
   "execution_count": 7,
   "id": "c267bca9-1f4d-4b26-96ee-4e644de17016",
   "metadata": {},
   "outputs": [
    {
     "name": "stdout",
     "output_type": "stream",
     "text": [
      "(1, 2, 3, 2, 3, 4)\n"
     ]
    }
   ],
   "source": [
    "#30. Merge two tuples.\n",
    "t21=(1,2,3)\n",
    "t22=(2,3,4)\n",
    "merge=t21+t22\n",
    "print(merge)"
   ]
  },
  {
   "cell_type": "code",
   "execution_count": 33,
   "id": "95966e21-bc38-4f08-9126-db66f4277138",
   "metadata": {},
   "outputs": [
    {
     "ename": "NameError",
     "evalue": "name 'falttened' is not defined",
     "output_type": "error",
     "traceback": [
      "\u001b[0;31m---------------------------------------------------------------------------\u001b[0m",
      "\u001b[0;31mNameError\u001b[0m                                 Traceback (most recent call last)",
      "Cell \u001b[0;32mIn[33], line 11\u001b[0m\n\u001b[1;32m      9\u001b[0m     \u001b[38;5;28;01mreturn\u001b[39;00m falttened\n\u001b[1;32m     10\u001b[0m nested_tuple\u001b[38;5;241m=\u001b[39m((\u001b[38;5;241m1\u001b[39m,\u001b[38;5;241m2\u001b[39m),(\u001b[38;5;241m3\u001b[39m,\u001b[38;5;241m4\u001b[39m,\u001b[38;5;241m5\u001b[39m),(\u001b[38;5;241m6\u001b[39m,(\u001b[38;5;241m7\u001b[39m,\u001b[38;5;241m8\u001b[39m)))\n\u001b[0;32m---> 11\u001b[0m flattened_tuple\u001b[38;5;241m=\u001b[39m\u001b[38;5;28mtuple\u001b[39m(\u001b[43mflatten_tuple\u001b[49m\u001b[43m(\u001b[49m\u001b[43mnested_tuple\u001b[49m\u001b[43m)\u001b[49m)\n\u001b[1;32m     12\u001b[0m \u001b[38;5;28mprint\u001b[39m(flattened_tuple)\n",
      "Cell \u001b[0;32mIn[33], line 6\u001b[0m, in \u001b[0;36mflatten_tuple\u001b[0;34m(nested_tuple)\u001b[0m\n\u001b[1;32m      4\u001b[0m \u001b[38;5;28;01mfor\u001b[39;00m item \u001b[38;5;129;01min\u001b[39;00m nested_tuple:\n\u001b[1;32m      5\u001b[0m     \u001b[38;5;28;01mif\u001b[39;00m \u001b[38;5;28misinstance\u001b[39m(item,\u001b[38;5;28mtuple\u001b[39m):\n\u001b[0;32m----> 6\u001b[0m         flattened\u001b[38;5;241m.\u001b[39mextend(\u001b[43mflatten_tuple\u001b[49m\u001b[43m(\u001b[49m\u001b[43mitem\u001b[49m\u001b[43m)\u001b[49m)\n\u001b[1;32m      7\u001b[0m     \u001b[38;5;28;01melse\u001b[39;00m:\n\u001b[1;32m      8\u001b[0m         flattened\u001b[38;5;241m.\u001b[39mappend(item)\n",
      "Cell \u001b[0;32mIn[33], line 9\u001b[0m, in \u001b[0;36mflatten_tuple\u001b[0;34m(nested_tuple)\u001b[0m\n\u001b[1;32m      7\u001b[0m     \u001b[38;5;28;01melse\u001b[39;00m:\n\u001b[1;32m      8\u001b[0m         flattened\u001b[38;5;241m.\u001b[39mappend(item)\n\u001b[0;32m----> 9\u001b[0m \u001b[38;5;28;01mreturn\u001b[39;00m \u001b[43mfalttened\u001b[49m\n",
      "\u001b[0;31mNameError\u001b[0m: name 'falttened' is not defined"
     ]
    }
   ],
   "source": [
    "# 31. Flatten a nested tuple.\n",
    "def flatten_tuple(nested_tuple):\n",
    "    flattened=[]\n",
    "    for item in nested_tuple:\n",
    "        if isinstance(item,tuple):\n",
    "            flattened.extend(flatten_tuple(item))\n",
    "        else:\n",
    "            flattened.append(item)\n",
    "    return falttened\n",
    "nested_tuple=((1,2),(3,4,5),(6,(7,8)))\n",
    "flattened_tuple=tuple(flatten_tuple(nested_tuple))\n",
    "print(flattened_tuple)\n",
    "            "
   ]
  },
  {
   "cell_type": "code",
   "execution_count": 19,
   "id": "622f6345-7b7d-47b9-bb49-d4c9541355d1",
   "metadata": {},
   "outputs": [
    {
     "name": "stdout",
     "output_type": "stream",
     "text": [
      "(2, 3, 5, 7, 11)\n"
     ]
    }
   ],
   "source": [
    "# 32. Create a tuple of the first 5 prime numbers.\n",
    "def prime(num):\n",
    "    if num<=1:\n",
    "        return False\n",
    "    for i in range(2,int(num**0.5)+1):\n",
    "        if num%i==0:\n",
    "            return False\n",
    "    return True\n",
    "prime_numbers=[num for num in range(2,100) if prime(num)][:5]\n",
    "prime_tuple=tuple(prime_numbers)\n",
    "print(prime_tuple)"
   ]
  },
  {
   "cell_type": "code",
   "execution_count": null,
   "id": "2d750cee-65cc-476a-a80c-76d9b9afc3cb",
   "metadata": {},
   "outputs": [],
   "source": []
  },
  {
   "cell_type": "code",
   "execution_count": 27,
   "id": "ebd99f3d-3b42-4f1b-8c44-ebb48ef0855d",
   "metadata": {},
   "outputs": [
    {
     "name": "stdout",
     "output_type": "stream",
     "text": [
      "given tuple is palindrome\n"
     ]
    }
   ],
   "source": [
    "# 33. Check if a tuple is a palindrome.\n",
    "t19=(1,2,3,2,1)\n",
    "if t19==t19[::-1]:\n",
    "    print(\"given tuple is palindrome\")\n",
    "else:\n",
    "    print(\"not palindrome\")"
   ]
  },
  {
   "cell_type": "code",
   "execution_count": 30,
   "id": "1e9bad4b-ae02-47c8-85ba-b3f0f646f793",
   "metadata": {},
   "outputs": [
    {
     "name": "stdout",
     "output_type": "stream",
     "text": [
      "(1, 4, 9, 16, 25)\n"
     ]
    }
   ],
   "source": [
    "# 34. Create a tuple of squares of numbers from 1 to 5.\n",
    "square_tuple=[]\n",
    "for i in range(1,6):\n",
    "    square=i**2\n",
    "    square_tuple.append(square)\n",
    "print(tuple(square_tuple))"
   ]
  },
  {
   "cell_type": "code",
   "execution_count": 32,
   "id": "89c6a85b-6a72-4f53-a2a8-731f92569c81",
   "metadata": {},
   "outputs": [
    {
     "name": "stdout",
     "output_type": "stream",
     "text": [
      "(2, 4, 6)\n"
     ]
    }
   ],
   "source": [
    "# 35. Filter out all even numbers from a tuple.\n",
    "t20=(2,3,4,5,6)\n",
    "even=[]\n",
    "for v in t20:\n",
    "    if v%2==0:\n",
    "        even.append(v)\n",
    "print(tuple(even))"
   ]
  },
  {
   "cell_type": "code",
   "execution_count": 43,
   "id": "67b070ec-1e62-48b7-942f-e526883f5432",
   "metadata": {},
   "outputs": [
    {
     "name": "stdout",
     "output_type": "stream",
     "text": [
      "(4, 6, 8, 10, 12)\n"
     ]
    }
   ],
   "source": [
    "# 36. Multiply all elements in a tuple by 2.\n",
    "t21=(2,3,4,5,6)\n",
    "double=tuple(num*2 for num in t21)\n",
    "print(double)"
   ]
  },
  {
   "cell_type": "code",
   "execution_count": 47,
   "id": "7c1f6ff2-1e0d-48c8-8db8-47d5c23d4d19",
   "metadata": {},
   "outputs": [
    {
     "name": "stdout",
     "output_type": "stream",
     "text": [
      "(97, 49, 39, 39, 60, 60, 33, 36, 39, 56)\n"
     ]
    }
   ],
   "source": [
    "# 37. Create a tuple of random numbers.\n",
    "import random\n",
    "random_tuple=tuple(random.randint(1,100) for i in range(10))\n",
    "print(random_tuple)"
   ]
  },
  {
   "cell_type": "code",
   "execution_count": 52,
   "id": "02dc8c37-6a39-4e9c-ab0d-e8529ed03b7e",
   "metadata": {},
   "outputs": [
    {
     "name": "stdout",
     "output_type": "stream",
     "text": [
      "tuple is sorted: True\n"
     ]
    }
   ],
   "source": [
    "# 38. Check if a tuple is sorted.\n",
    "def sorted(tup):\n",
    "    for i in range(len(tup)-1):\n",
    "        if tup[i]>tup[i+1]:\n",
    "            return False\n",
    "    return True\n",
    "sorted_tuple=(1,2,3,4)\n",
    "sort=sorted(sorted_tuple)\n",
    "print(\"tuple is sorted:\",sort)\n"
   ]
  },
  {
   "cell_type": "code",
   "execution_count": 58,
   "id": "43207873-8c19-45e9-950f-24bd6efbb70a",
   "metadata": {},
   "outputs": [
    {
     "name": "stdout",
     "output_type": "stream",
     "text": [
      "(4, 5, 1, 2, 3)\n"
     ]
    }
   ],
   "source": [
    "#39. Rotate a tuple to the left by `n` positions.\n",
    "def rotate_tuple_left(tup,n):\n",
    "    n=n%len(tup)\n",
    "    rotate_tuple=tup[n:]+tup[:n]\n",
    "    return rotate_tuple\n",
    "t23=(1,2,3,4,5)\n",
    "n=3\n",
    "result=rotate_tuple_left(t23,n)\n",
    "print(result)\n",
    "\n"
   ]
  },
  {
   "cell_type": "code",
   "execution_count": 62,
   "id": "fdf9c41d-7e62-4d74-8ff7-71d2d75d9398",
   "metadata": {},
   "outputs": [
    {
     "name": "stdout",
     "output_type": "stream",
     "text": [
      "(3, 4, 5, 1, 2)\n"
     ]
    }
   ],
   "source": [
    "#40. Rotate a tuple to the right by `n` positions\n",
    "def rotate_tuple_right(tup,n):\n",
    "    n=n%len(tup)\n",
    "    rotate_tuple=tup[-n:]+tup[:-n]\n",
    "    return rotate_tuple\n",
    "t23=(1,2,3,4,5)\n",
    "n=3\n",
    "result=rotate_tuple_right(t23,n)\n",
    "print(result)"
   ]
  },
  {
   "cell_type": "code",
   "execution_count": 63,
   "id": "e7f317c8-e52f-4079-a9c6-57e582491991",
   "metadata": {},
   "outputs": [
    {
     "name": "stdout",
     "output_type": "stream",
     "text": [
      "(0, 1, 1, 2, 3)\n"
     ]
    }
   ],
   "source": [
    "#41. Create a tuple of the first 5 Fibonacci numbers.\n",
    "def g_fibonacci(n):\n",
    "    fibonacci=[0,1]\n",
    "    while len(fibonacci)<n:\n",
    "        next_number=fibonacci[-1]+fibonacci[-2]\n",
    "        fibonacci.append(next_number)\n",
    "    return tuple(fibonacci)\n",
    "fib=g_fibonacci(5)\n",
    "print(fib)"
   ]
  },
  {
   "cell_type": "code",
   "execution_count": 66,
   "id": "eb07f841-93aa-4b41-a687-45629d2ef4ef",
   "metadata": {},
   "outputs": [
    {
     "name": "stdin",
     "output_type": "stream",
     "text": [
      "enter elements i,a,e,r\n"
     ]
    },
    {
     "name": "stdout",
     "output_type": "stream",
     "text": [
      "('i', 'a', 'e', 'r')\n"
     ]
    }
   ],
   "source": [
    "#42. Create a tuple from user input.\n",
    "string=input(\"enter elements\")\n",
    "input_list=string.split(',')\n",
    "user_tuple=tuple(input_list)\n",
    "print(user_tuple)"
   ]
  },
  {
   "cell_type": "code",
   "execution_count": 69,
   "id": "de20888e-594b-4bbf-8981-8686b697b686",
   "metadata": {},
   "outputs": [
    {
     "name": "stdout",
     "output_type": "stream",
     "text": [
      "(1, 4, 3, 2, 5)\n"
     ]
    }
   ],
   "source": [
    "# 43. Swap two elements in a tuple.\n",
    "t26=(1,2,3,4,5)\n",
    "ls=list(t26)\n",
    "ls[1],ls[3]=ls[3],ls[1]\n",
    "swapping=tuple(ls)\n",
    "print(swapping)"
   ]
  },
  {
   "cell_type": "code",
   "execution_count": 70,
   "id": "82885b1c-4a71-4cb7-9505-643173de7f8c",
   "metadata": {},
   "outputs": [
    {
     "name": "stdout",
     "output_type": "stream",
     "text": [
      "(5, 4, 3, 2, 1)\n"
     ]
    }
   ],
   "source": [
    "#44. Reverse the elements of a tuple.\n",
    "tup=(1,2,3,4,5)\n",
    "tup=tup[::-1]\n",
    "print(tup)"
   ]
  },
  {
   "cell_type": "code",
   "execution_count": 73,
   "id": "5d021fcb-f9f5-4fa4-87a8-b8a8cea7c92b",
   "metadata": {},
   "outputs": [
    {
     "name": "stdout",
     "output_type": "stream",
     "text": [
      "the powers of 2 (1, 2, 4, 8, 16)\n"
     ]
    }
   ],
   "source": [
    "# 45. Create a tuple of the first `n` powers of 2.\n",
    "n=5\n",
    "powers=tuple(2**i for i in range(n))\n",
    "print(\"the powers of 2\",powers)"
   ]
  },
  {
   "cell_type": "code",
   "execution_count": 76,
   "id": "46cb0388-289a-419a-984d-ca35012020a7",
   "metadata": {},
   "outputs": [
    {
     "name": "stdout",
     "output_type": "stream",
     "text": [
      "longest string is: pwskills\n"
     ]
    }
   ],
   "source": [
    "# 46. Find the longest string in a tuple of strings.\n",
    "t30=(\"santosh\",\"pwskills\",\"python\")\n",
    "longest=max(t30,key=len)\n",
    "print(\"longest string is:\",longest)"
   ]
  },
  {
   "cell_type": "code",
   "execution_count": 77,
   "id": "d57e86d5-5305-4f25-9910-c38daf1777df",
   "metadata": {},
   "outputs": [
    {
     "name": "stdout",
     "output_type": "stream",
     "text": [
      "shortest string is: python\n"
     ]
    }
   ],
   "source": [
    "#47. Find the shortest string in a tuple of strings.\n",
    "shortest=min(t30,key=len)\n",
    "print(\"shortest string is:\",shortest)"
   ]
  },
  {
   "cell_type": "code",
   "execution_count": 80,
   "id": "422c99f2-2c4a-41e8-9ee1-091078254e31",
   "metadata": {},
   "outputs": [
    {
     "name": "stdout",
     "output_type": "stream",
     "text": [
      "the triangular numbers are: (0, 1, 3, 6, 10)\n"
     ]
    }
   ],
   "source": [
    "#48. Create a tuple of the first `n` triangular numbers.\n",
    "n=5\n",
    "tringular=tuple(i*(i+1)//2 for i in range(n))\n",
    "print(\"the triangular numbers are:\",tringular)"
   ]
  },
  {
   "cell_type": "code",
   "execution_count": 5,
   "id": "92e248c7-b095-4208-ac52-d52bc7de8f61",
   "metadata": {},
   "outputs": [
    {
     "name": "stdout",
     "output_type": "stream",
     "text": [
      "True\n"
     ]
    }
   ],
   "source": [
    "# 49. Check if a tuple contains another tuple as a subsequence.\n",
    "def contains_subsequence(main,sub):\n",
    "    sub_length=len(sub)\n",
    "    for i in range(len(main)-sub_length+1):\n",
    "        if main[1:i+sub_length]==sub:\n",
    "            return True\n",
    "    return False\n",
    "main=(1,2,3,4,5,6,7)\n",
    "sub=(2,3,4)\n",
    "contain_subseq=contains_subsequence(main,sub)\n",
    "print(contain_subseq)"
   ]
  },
  {
   "cell_type": "code",
   "execution_count": 6,
   "id": "4e2ff323-aac5-4eba-9bab-053ed3f18c72",
   "metadata": {},
   "outputs": [
    {
     "name": "stdout",
     "output_type": "stream",
     "text": [
      "(0, 1, 0, 1, 0, 1, 0, 1, 0, 1)\n"
     ]
    }
   ],
   "source": [
    "#50. Create a tuple of alternating 1s and 0s of length `n`.\n",
    "n=10\n",
    "alt=tuple(i%2 for i in range(n))\n",
    "print(alt)"
   ]
  },
  {
   "cell_type": "code",
   "execution_count": 26,
   "id": "3d5e1400-7197-4544-ada5-2dcaeebd79df",
   "metadata": {},
   "outputs": [
    {
     "name": "stdout",
     "output_type": "stream",
     "text": [
      "{1, 2, 3, 4, 5}\n"
     ]
    }
   ],
   "source": [
    "# Set based questions\n",
    "#1.  create a set with integers from 1 to 5\n",
    "y=set()\n",
    "y.add(1)\n",
    "y.add(2)\n",
    "y.add(3)\n",
    "y.add(4)\n",
    "y.add(5)\n",
    "print(y)\n",
    "    "
   ]
  },
  {
   "cell_type": "code",
   "execution_count": 27,
   "id": "caeab7a2-3b4f-4638-84af-4c3e07031ad8",
   "metadata": {},
   "outputs": [
    {
     "name": "stdout",
     "output_type": "stream",
     "text": [
      "original set {1, 2, 3, 4, 5}\n",
      "after adding {1, 2, 3, 4, 5, 6}\n"
     ]
    }
   ],
   "source": [
    "#2. Add an element to a set.\n",
    "print(\"original set\",y)\n",
    "y.add(6)\n",
    "print(\"after adding\",y)"
   ]
  },
  {
   "cell_type": "code",
   "execution_count": null,
   "id": "7ed693dc-87c7-49fc-ba5c-9b95d2f2f5c0",
   "metadata": {},
   "outputs": [],
   "source": []
  },
  {
   "cell_type": "code",
   "execution_count": 28,
   "id": "3bfc3952-f5fc-4795-8f7b-a955121ae128",
   "metadata": {},
   "outputs": [
    {
     "name": "stdout",
     "output_type": "stream",
     "text": [
      "original set {1, 2, 3, 4, 5, 6}\n",
      "after removing set {1, 2, 3, 4, 6}\n"
     ]
    }
   ],
   "source": [
    "#3. Remove an element from a set.\n",
    "print(\"original set\",y)\n",
    "y.remove(5)\n",
    "print(\"after removing set\",y)"
   ]
  },
  {
   "cell_type": "code",
   "execution_count": 34,
   "id": "03b779d4-a025-43d8-b2ce-e03c4dda5662",
   "metadata": {},
   "outputs": [
    {
     "name": "stdin",
     "output_type": "stream",
     "text": [
      "enter a number 5\n"
     ]
    },
    {
     "name": "stdout",
     "output_type": "stream",
     "text": [
      "element exists\n"
     ]
    }
   ],
   "source": [
    "# 4. Check if an element exists in a set.\n",
    "y1={2,3,4,5,6}\n",
    "element=int(input(\"enter a number\"))\n",
    "if element in y1:\n",
    "    print(\"element exists\")\n",
    "else:\n",
    "    print(\"element does not exists\")"
   ]
  },
  {
   "cell_type": "code",
   "execution_count": 35,
   "id": "73b47115-211b-46cd-9bbe-e675a57fdf68",
   "metadata": {},
   "outputs": [
    {
     "name": "stdout",
     "output_type": "stream",
     "text": [
      "the length of set is: 5\n"
     ]
    }
   ],
   "source": [
    "# 5. Find the length of a set without using the `len()` function.\n",
    "count=0\n",
    "for v in y1:\n",
    "    count+=1\n",
    "print(\"the length of set is:\",count)"
   ]
  },
  {
   "cell_type": "code",
   "execution_count": null,
   "id": "d1f71b34-1771-49bd-9e6d-450173e364bd",
   "metadata": {},
   "outputs": [],
   "source": [
    "# 6. Clear all elements from a set.\n",
    "y2={1,2,3,4,5,6}\n",
    "y2.clear()\n",
    "print(y2)"
   ]
  },
  {
   "cell_type": "code",
   "execution_count": null,
   "id": "8e3143a7-e6dc-4f3e-92ac-99137962100c",
   "metadata": {},
   "outputs": [],
   "source": [
    "# 7. Create a set of even numbers from 1 to 10.\n",
    "y3=set()\n",
    "for i in range(1,11):\n",
    "    if i%2==0:\n",
    "        y3.add(i)\n",
    "print(y3)"
   ]
  },
  {
   "cell_type": "code",
   "execution_count": 2,
   "id": "e6c7143e-3be1-45f0-a416-ca7e86bc8fa3",
   "metadata": {},
   "outputs": [
    {
     "name": "stdout",
     "output_type": "stream",
     "text": [
      "{1, 3, 5, 7, 9}\n"
     ]
    }
   ],
   "source": [
    "# 8. Create a set of odd numbers from 1 to 10.\n",
    "y3=set()\n",
    "for i in range(1,11):\n",
    "    if i%2==1:\n",
    "        y3.add(i)\n",
    "print(y3)"
   ]
  },
  {
   "cell_type": "code",
   "execution_count": 6,
   "id": "f456e2bb-8b75-4024-bcd5-6162135b9711",
   "metadata": {},
   "outputs": [
    {
     "name": "stdout",
     "output_type": "stream",
     "text": [
      "union of sets are: {1, 2, 3, 4, 5, 6}\n",
      "intersection of sets are: {3, 4}\n",
      "difference between two sets: {1, 2}\n"
     ]
    }
   ],
   "source": [
    "# 9. Find the union of two sets.\n",
    "# 10. Find the intersection of two sets\n",
    "#11. Find the difference between two sets.\n",
    "y4={1,2,3,4}\n",
    "y5={5,6,3,4}\n",
    "union_set=y4.union(y5)\n",
    "inter_set=y4.intersection(y5)\n",
    "differ_set=y4.difference(y5)\n",
    "print(\"union of sets are:\",union_set)\n",
    "print(\"intersection of sets are:\",inter_set)\n",
    "print(\"difference between two sets:\",differ_set)"
   ]
  },
  {
   "cell_type": "code",
   "execution_count": 10,
   "id": "e1a8ad05-4b8f-4cae-8fff-a0d26b008973",
   "metadata": {},
   "outputs": [
    {
     "name": "stdout",
     "output_type": "stream",
     "text": [
      "is y6 a subset of y7: True\n",
      "is y7 a superset of y6: True\n"
     ]
    }
   ],
   "source": [
    "#12. Check if a set is a subset of another set.\n",
    "#13. Check if a set is a superset of another set.\n",
    "y6={1,2,3}\n",
    "y7={1,2,3,4,5}\n",
    "subset=y6.issubset(y7)\n",
    "superset=y7.issuperset(y6)\n",
    "print(\"is y6 a subset of y7:\",subset)\n",
    "print(\"is y7 a superset of y6:\",superset)"
   ]
  },
  {
   "cell_type": "code",
   "execution_count": 11,
   "id": "1aeb24aa-320b-4881-afca-0127109610c7",
   "metadata": {},
   "outputs": [
    {
     "name": "stdout",
     "output_type": "stream",
     "text": [
      "{1, 2, 3, 4, 5}\n"
     ]
    }
   ],
   "source": [
    "#14. Create a set from a list.\n",
    "list1=[1,2,3,2,3,4,5,3]\n",
    "set1=set(list1)\n",
    "print(set1)"
   ]
  },
  {
   "cell_type": "code",
   "execution_count": 13,
   "id": "a983435a-5bf5-44df-95c1-8b3f6fd4f4fc",
   "metadata": {},
   "outputs": [
    {
     "name": "stdout",
     "output_type": "stream",
     "text": [
      "[1, 2, 3, 4, 5]\n"
     ]
    }
   ],
   "source": [
    "#15. Convert a set to a list.\n",
    "set2={1,2,3,4,5}\n",
    "list2=list(set2)\n",
    "print(list2)"
   ]
  },
  {
   "cell_type": "code",
   "execution_count": 17,
   "id": "682f373b-f946-4e62-928a-4068d476f931",
   "metadata": {},
   "outputs": [
    {
     "name": "stdout",
     "output_type": "stream",
     "text": [
      "4\n",
      "after removing random element: {1, 2, 3, 5}\n"
     ]
    }
   ],
   "source": [
    "#16. Remove a random element from a set.\n",
    "import random\n",
    "set3={1,2,3,4,5}\n",
    "random_element=random.choice(list(set3))\n",
    "print(random_element)\n",
    "set3.remove(random_element)\n",
    "print(\"after removing random element:\",set3)"
   ]
  },
  {
   "cell_type": "code",
   "execution_count": 19,
   "id": "d7aca6e0-0cf7-42d0-980b-21456e7f620a",
   "metadata": {},
   "outputs": [
    {
     "name": "stdout",
     "output_type": "stream",
     "text": [
      "popped element: 1\n",
      "after popping: {2, 3, 4, 5, 6}\n"
     ]
    }
   ],
   "source": [
    "#17. Pop an element from a set.\n",
    "set4={1,2,3,4,5,6}\n",
    "pop_element=set4.pop()\n",
    "print(\"popped element:\",pop_element)\n",
    "print(\"after popping:\",set4)\n"
   ]
  },
  {
   "cell_type": "code",
   "execution_count": 22,
   "id": "6de205a1-b263-4f9d-8084-dfd9a7b096bd",
   "metadata": {},
   "outputs": [
    {
     "name": "stdout",
     "output_type": "stream",
     "text": [
      "have a common element\n"
     ]
    }
   ],
   "source": [
    "#18. Check if two sets have no elements in common.\n",
    "set5={1,2,3,4,5}\n",
    "set6={6,7,8,9,4}\n",
    "common_elements=set5.intersection(set6)\n",
    "if not common_elements:\n",
    "    print(\"no elements in common\")\n",
    "else:\n",
    "    print(\"have a common element\")\n"
   ]
  },
  {
   "cell_type": "code",
   "execution_count": 23,
   "id": "aa46fec9-e0ac-4c55-b495-356f99740d34",
   "metadata": {},
   "outputs": [
    {
     "name": "stdout",
     "output_type": "stream",
     "text": [
      "symmetric difference: {1, 2, 3, 5, 6, 7, 8, 9}\n"
     ]
    }
   ],
   "source": [
    "#19. Find the symmetric difference between two sets.\n",
    "set5={1,2,3,4,5}\n",
    "set6={6,7,8,9,4}\n",
    "symmetric_difference=set5^set6\n",
    "print(\"symmetric difference:\",symmetric_difference)"
   ]
  },
  {
   "cell_type": "code",
   "execution_count": 25,
   "id": "3f201d45-e752-4e3d-b363-f4ed1a921701",
   "metadata": {},
   "outputs": [
    {
     "name": "stdout",
     "output_type": "stream",
     "text": [
      "update a set: {1, 2, 3, 4, 5, 6, 7, 8, 9}\n"
     ]
    }
   ],
   "source": [
    "#20. Update a set with elements from another set.\n",
    "set5={1,2,3,4,5}\n",
    "set6={6,7,8,9,4}\n",
    "set5.update(set6)\n",
    "print(\"update a set:\",set5)"
   ]
  },
  {
   "cell_type": "code",
   "execution_count": 27,
   "id": "bcbe8178-c815-4040-a1df-8920753c7643",
   "metadata": {},
   "outputs": [
    {
     "name": "stdout",
     "output_type": "stream",
     "text": [
      "{2, 3, 5, 7, 11}\n"
     ]
    }
   ],
   "source": [
    "# 21. Create a set of the first 5 prime numbers.\n",
    "def prime(num):\n",
    "    if num<=1:\n",
    "        return False\n",
    "    for i in range(2,int(num**0.5)+1):\n",
    "        if num%i==0:\n",
    "            return False\n",
    "    return True\n",
    "prime_set=set()\n",
    "num=2\n",
    "while len(prime_set)<5:\n",
    "    if prime(num):\n",
    "        prime_set.add(num)\n",
    "    num+=1\n",
    "print(prime_set)"
   ]
  },
  {
   "cell_type": "code",
   "execution_count": 28,
   "id": "512e574b-b3d0-46cc-a343-f1ca36203000",
   "metadata": {},
   "outputs": [
    {
     "name": "stdout",
     "output_type": "stream",
     "text": [
      "the two sets are identical\n"
     ]
    }
   ],
   "source": [
    "# 22. Check if two sets are identical.\n",
    "set5={1,2,3,4,5}\n",
    "set6={4,5,3,2,1}\n",
    "if set5==set6:\n",
    "    print(\"the two sets are identical\")\n",
    "else:\n",
    "    print(\"the two sets are not identical\")"
   ]
  },
  {
   "cell_type": "code",
   "execution_count": 29,
   "id": "56b1954a-7997-46f4-908b-56868f1bffc1",
   "metadata": {},
   "outputs": [
    {
     "name": "stdout",
     "output_type": "stream",
     "text": [
      "frozenset({1, 2, 3, 4, 56})\n"
     ]
    }
   ],
   "source": [
    "#23. Create a frozen set.\n",
    "ele=[1,2,3,4,56]\n",
    "frozen_set=frozenset(ele)\n",
    "print(frozen_set)"
   ]
  },
  {
   "cell_type": "code",
   "execution_count": 32,
   "id": "b991f684-cca6-43e7-b7b5-a462102761ab",
   "metadata": {},
   "outputs": [
    {
     "name": "stdout",
     "output_type": "stream",
     "text": [
      "True\n"
     ]
    }
   ],
   "source": [
    "#24. Check if a set is disjoint with another set.\n",
    "set7={1,2,3,4,5}\n",
    "set8={6,7,8,9}\n",
    "disjoint_set=set7.isdisjoint(set8)\n",
    "print(disjoint_set)"
   ]
  },
  {
   "cell_type": "code",
   "execution_count": 33,
   "id": "b337fad2-5fd2-4ccf-9c86-5e5294cb0f83",
   "metadata": {},
   "outputs": [
    {
     "name": "stdout",
     "output_type": "stream",
     "text": [
      "the squares set is: {1, 4, 9, 16, 25}\n"
     ]
    }
   ],
   "source": [
    "#25. Create a set of squares of numbers from 1 to 5.\n",
    "squares_set=set()\n",
    "for n in range(1,6):\n",
    "    square=n**2\n",
    "    squares_set.add(square)\n",
    "print(\"the squares set is:\",squares_set)"
   ]
  },
  {
   "cell_type": "code",
   "execution_count": 1,
   "id": "6c041ebf-a8f9-47b8-a244-e154564b1fee",
   "metadata": {},
   "outputs": [
    {
     "name": "stdout",
     "output_type": "stream",
     "text": [
      "{2, 4, 6}\n"
     ]
    }
   ],
   "source": [
    "#26. Filter out all even numbers from a set.\n",
    "set9={1,2,3,4,5,6}\n",
    "set10=set()\n",
    "for v in set9:\n",
    "    if v%2==0:\n",
    "        set10.add(v)\n",
    "print(set10)"
   ]
  },
  {
   "cell_type": "code",
   "execution_count": 4,
   "id": "f4e8b42e-3940-4c84-add6-01e045bb0829",
   "metadata": {},
   "outputs": [
    {
     "name": "stdout",
     "output_type": "stream",
     "text": [
      "{2, 4, 6, 8, 10, 12}\n"
     ]
    }
   ],
   "source": [
    "#27. Multiply all elements in a set by 2.\n",
    "set9={1,2,3,4,5,6}\n",
    "set11=set()\n",
    "for v in set9:\n",
    "    multi=v*2\n",
    "    set11.add(multi)\n",
    "print(set11)"
   ]
  },
  {
   "cell_type": "code",
   "execution_count": 11,
   "id": "93f12e06-58e1-48be-9ec4-d8ed050d3f8d",
   "metadata": {},
   "outputs": [
    {
     "name": "stdout",
     "output_type": "stream",
     "text": [
      "{64, 97, 70, 22, 93}\n"
     ]
    }
   ],
   "source": [
    "#28. Create a set of random numbers.\n",
    "import random\n",
    "n=5\n",
    "random_set=set()\n",
    "for i in range(n):\n",
    "    random_num=random.randint(1,100)\n",
    "    random_set.add(random_num)\n",
    "print(random_set)"
   ]
  },
  {
   "cell_type": "code",
   "execution_count": 7,
   "id": "095b2fe2-516e-4e80-a558-24a5cdaec963",
   "metadata": {},
   "outputs": [
    {
     "name": "stdout",
     "output_type": "stream",
     "text": [
      "set is not empty\n"
     ]
    }
   ],
   "source": [
    "#29. Check if a set is empty.\n",
    "set12={1,2}\n",
    "if len(set12)==0:\n",
    "    print(\"set is empty\")\n",
    "else:\n",
    "    print(\"set is not empty\")"
   ]
  },
  {
   "cell_type": "code",
   "execution_count": 9,
   "id": "18833e2d-0aba-4bf2-9884-d70f96501b0c",
   "metadata": {},
   "outputs": [
    {
     "name": "stdout",
     "output_type": "stream",
     "text": [
      "{frozenset({1, 2, 3, 4, 5}), frozenset({8, 9, 6, 7})}\n"
     ]
    }
   ],
   "source": [
    "#30. Create a nested set (hint: use frozenset).\n",
    "set14={1,2,3,4,5}\n",
    "set15={6,7,8,9}\n",
    "forzen_set14=frozenset(set14)\n",
    "frozen_set15=frozenset(set15)\n",
    "nested_set={forzen_set14,frozen_set15}\n",
    "print(nested_set)"
   ]
  },
  {
   "cell_type": "code",
   "execution_count": 8,
   "id": "4d9a965d-0933-4688-a947-7cbb63a3a1e9",
   "metadata": {},
   "outputs": [
    {
     "name": "stdout",
     "output_type": "stream",
     "text": [
      "{1, 2, 3, 4, 5}\n"
     ]
    }
   ],
   "source": [
    "#31. Remove an element from a set using the discard method.\n",
    "set13={1,2,3,4,5,6}\n",
    "set13.discard(6)\n",
    "print(set13)"
   ]
  },
  {
   "cell_type": "code",
   "execution_count": 15,
   "id": "63569064-48d1-40bf-900a-b789b00f2695",
   "metadata": {},
   "outputs": [
    {
     "name": "stdout",
     "output_type": "stream",
     "text": [
      "False\n",
      "False\n",
      "{4}\n",
      "{1, 2, 3, 4, 5, 6, 7, 8, 9}\n",
      "{1, 2, 3, 5}\n",
      "{8, 9, 6, 7}\n"
     ]
    }
   ],
   "source": [
    "#32. Compare two sets.\n",
    "set14={1,2,3,4,5}\n",
    "set15={6,7,8,9,4}\n",
    "is_subset=set14.issubset(set15)\n",
    "is_superset=set14.issuperset(set15)\n",
    "intersection=set14.intersection(set15)\n",
    "union=set14.union(set15)\n",
    "diff1=set14.difference(set15)\n",
    "diff2=set15.difference(set14)\n",
    "print(is_subset)\n",
    "print(is_superset)\n",
    "print(intersection)\n",
    "print(union)\n",
    "print(diff1)\n",
    "print(diff2)"
   ]
  },
  {
   "cell_type": "code",
   "execution_count": 16,
   "id": "57fbf1ab-fdfe-43ee-b38f-490d49426822",
   "metadata": {},
   "outputs": [
    {
     "name": "stdout",
     "output_type": "stream",
     "text": [
      "{'e', 'l', 'h', 'o'}\n"
     ]
    }
   ],
   "source": [
    "#33. Create a set from a string.\n",
    "string1=\"hello\"\n",
    "set16=set(string1)\n",
    "print(set16)"
   ]
  },
  {
   "cell_type": "code",
   "execution_count": 18,
   "id": "7f555f97-8e11-408d-ad73-3872b2949c66",
   "metadata": {},
   "outputs": [
    {
     "name": "stdout",
     "output_type": "stream",
     "text": [
      "{456, 123, 789}\n"
     ]
    }
   ],
   "source": [
    "#34. Convert a set of strings to a set of integers.\n",
    "string2={\"789\",\"123\",\"456\"}\n",
    "integer=set()\n",
    "for v in string2:\n",
    "    int_value=int(v)\n",
    "    integer.add(int_value)\n",
    "print(integer)"
   ]
  },
  {
   "cell_type": "code",
   "execution_count": 20,
   "id": "be1a4262-e7ea-41a4-aafe-0bd93c9ab0c4",
   "metadata": {},
   "outputs": [
    {
     "name": "stdout",
     "output_type": "stream",
     "text": [
      "{'1', '2', '4', '3', '6'}\n"
     ]
    }
   ],
   "source": [
    "#35. Convert a set of integers to a set of strings.\n",
    "integer_set={1,2,3,4,6}\n",
    "string_set=set()\n",
    "for v in integer_set:\n",
    "    string_value=str(v)\n",
    "    string_set.add(string_value)\n",
    "print(string_set)"
   ]
  },
  {
   "cell_type": "code",
   "execution_count": 21,
   "id": "f4059657-bd4f-4fd3-8e85-7b35ce416e3a",
   "metadata": {},
   "outputs": [
    {
     "name": "stdout",
     "output_type": "stream",
     "text": [
      "{1, 3, 4, 5}\n"
     ]
    }
   ],
   "source": [
    "#36. Create a set from a tuple.\n",
    "tuple1=[1,3,3,4,5]\n",
    "set20=set(tuple1)\n",
    "print(set20)"
   ]
  },
  {
   "cell_type": "code",
   "execution_count": 2,
   "id": "1db792aa-9ea9-4629-b396-fe0a6a2d86b4",
   "metadata": {},
   "outputs": [
    {
     "name": "stdout",
     "output_type": "stream",
     "text": [
      "(1, 2, 3, 4, 5)\n"
     ]
    }
   ],
   "source": [
    "#37. Convert a set to a tuple.\n",
    "set21={1,2,3,4,5}\n",
    "tuple2=tuple(set21)\n",
    "print(tuple2)"
   ]
  },
  {
   "cell_type": "code",
   "execution_count": 3,
   "id": "464bfd50-8a22-48fd-8e2b-25fd7e9f8e16",
   "metadata": {},
   "outputs": [
    {
     "name": "stdout",
     "output_type": "stream",
     "text": [
      "maximum value is: 5\n"
     ]
    }
   ],
   "source": [
    "#38. Find the maximum value in a set.\n",
    "max_value=max(set21)\n",
    "print(\"maximum value is:\",max_value)"
   ]
  },
  {
   "cell_type": "code",
   "execution_count": 4,
   "id": "9cacb3cd-ffe4-43d9-89fb-94bad49b7726",
   "metadata": {},
   "outputs": [
    {
     "name": "stdout",
     "output_type": "stream",
     "text": [
      "minimum value is: 1\n"
     ]
    }
   ],
   "source": [
    "# 39. Find the minimum value in a set.\n",
    "min_value=min(set21)\n",
    "print(\"minimum value is:\",min_value)"
   ]
  },
  {
   "cell_type": "code",
   "execution_count": 3,
   "id": "0f478d05-bae4-4ebd-bca6-45ca6698e189",
   "metadata": {},
   "outputs": [
    {
     "name": "stdout",
     "output_type": "stream",
     "text": [
      "enter user input\n"
     ]
    },
    {
     "name": "stdin",
     "output_type": "stream",
     "text": [
      "> i,am,done\n",
      "> done\n"
     ]
    },
    {
     "name": "stdout",
     "output_type": "stream",
     "text": [
      "final set {'i,am,done'}\n"
     ]
    }
   ],
   "source": [
    "# 40. Create a set from user input.\n",
    "user_set=set()\n",
    "print(\"enter user input\")\n",
    "while True:\n",
    "    user_input=input(\">\")\n",
    "    if user_input.lower()=='done':\n",
    "        break\n",
    "    user_set.add(user_input)\n",
    "print(\"final set\",user_set)"
   ]
  },
  {
   "cell_type": "code",
   "execution_count": 4,
   "id": "50d6aab7-d73f-4dd5-a370-3cfc210cf76c",
   "metadata": {},
   "outputs": [
    {
     "name": "stdout",
     "output_type": "stream",
     "text": [
      " the intersection of two sets are  not empty\n"
     ]
    }
   ],
   "source": [
    "#41. Check if the intersection of two sets is empty.\n",
    "y25={1,2,3,4,5}\n",
    "y26={4,5,6,7,8}\n",
    "intersection=y25.intersection(y26)\n",
    "if not intersection:\n",
    "    print(\" the intersection of two sets are empty\")\n",
    "else:\n",
    "    print(\" the intersection of two sets are  not empty\")"
   ]
  },
  {
   "cell_type": "code",
   "execution_count": 10,
   "id": "6d5491a0-1ab6-45f2-a089-d0d0209b85c2",
   "metadata": {},
   "outputs": [
    {
     "name": "stdout",
     "output_type": "stream",
     "text": [
      "{0, 1, 2, 3, 5}\n"
     ]
    }
   ],
   "source": [
    "#42. Create a set of the first 5 Fibonacci numbers.\n",
    "fibonacci_set=set()\n",
    "a,b=0,1\n",
    "for i in range(6):\n",
    "    fibonacci_set.add(a)\n",
    "    a,b=b,a+b\n",
    "print(fibonacci_set)"
   ]
  },
  {
   "cell_type": "code",
   "execution_count": 12,
   "id": "7d140ab5-2f59-4be9-a6a9-761162e165b1",
   "metadata": {},
   "outputs": [
    {
     "name": "stdout",
     "output_type": "stream",
     "text": [
      "[1, 2, 3, 4, 5, 6, 7, 8]\n"
     ]
    }
   ],
   "source": [
    "#43. Remove duplicates from a list using sets.\n",
    "list11=[1,2,3,4,4,5,6,7,8,7,7]\n",
    "y28=set(list11)\n",
    "list12=list(y28)\n",
    "print(list12)"
   ]
  },
  {
   "cell_type": "code",
   "execution_count": 13,
   "id": "6f2346f8-0e85-425a-b480-a62b116f8f18",
   "metadata": {},
   "outputs": [
    {
     "name": "stdout",
     "output_type": "stream",
     "text": [
      "the sets do not have same elements\n"
     ]
    }
   ],
   "source": [
    "#44. Check if two sets have the same elements, regardless of their count.\n",
    "def same_elements(y28,y29):\n",
    "    sorted_list1=sorted(list(y28))\n",
    "    sorted_list2=sorted(list(y29))\n",
    "    return sorted_list1==sorted_list2\n",
    "y28={1,2,3,3,2,1}\n",
    "y29={1,2,3}\n",
    "result=same_elements(y28,y29)\n",
    "if result:\n",
    "    print(\"the sets do not have same elements\")\n",
    "else:\n",
    "    print(\"the sets  have same elements\")\n",
    "                    "
   ]
  },
  {
   "cell_type": "code",
   "execution_count": 14,
   "id": "12da0b5c-ebc7-4bb1-9c7b-1a1e29e03920",
   "metadata": {},
   "outputs": [
    {
     "name": "stdout",
     "output_type": "stream",
     "text": [
      "the powers of 2 {1, 2, 4, 8, 16}\n"
     ]
    }
   ],
   "source": [
    "#45. Create a set of the first `n` powers of 2.\n",
    "n=5\n",
    "powers=set(2**i for i in range(n))\n",
    "print(\"the powers of 2\",powers)"
   ]
  },
  {
   "cell_type": "code",
   "execution_count": 3,
   "id": "69d9c16d-0027-4089-91ad-325fa369be00",
   "metadata": {},
   "outputs": [
    {
     "name": "stdout",
     "output_type": "stream",
     "text": [
      "common elements [2, 4]\n"
     ]
    }
   ],
   "source": [
    "#46. Find the common elements between a set and a list.\n",
    "y30={1,2,3,4,5}\n",
    "list2=[2,4,6,8]\n",
    "convert=list(y30)\n",
    "common_list = [x for x in list2 if x in convert]\n",
    "print(\"common elements\",common_list)\n"
   ]
  },
  {
   "cell_type": "code",
   "execution_count": 8,
   "id": "6ce0ca8b-b543-41f3-a35f-6fa303126338",
   "metadata": {},
   "outputs": [
    {
     "name": "stdin",
     "output_type": "stream",
     "text": [
      "enter the value of n 10\n"
     ]
    },
    {
     "name": "stdout",
     "output_type": "stream",
     "text": [
      "the triangular numbers are: {0, 1, 3, 36, 6, 10, 45, 15, 21, 28}\n"
     ]
    }
   ],
   "source": [
    "#47. Create a set of the first `n` triangular numbers.\n",
    "n=int(input(\"enter the value of n\"))\n",
    "tringular=set(i*(i+1)//2 for i in range(n))\n",
    "print(\"the triangular numbers are:\",tringular)"
   ]
  },
  {
   "cell_type": "code",
   "execution_count": 10,
   "id": "4ef5bb8d-4ffa-4227-ac7f-3fd34c202b50",
   "metadata": {},
   "outputs": [
    {
     "name": "stdout",
     "output_type": "stream",
     "text": [
      "y32 is not subset of y31\n"
     ]
    }
   ],
   "source": [
    "#48. Check if a set contains another set as a subset.\n",
    "y31={1,2,3,4,5}\n",
    "y32={3,4}\n",
    "subset=y32.issubset(y31)\n",
    "if subset:\n",
    "    print(\"y32 is subset of y31\")\n",
    "else:\n",
    "    print(\"y32 is not subset of y31\")"
   ]
  },
  {
   "cell_type": "code",
   "execution_count": 11,
   "id": "cc335bc6-a9a3-411a-ac92-7b63affc34b7",
   "metadata": {},
   "outputs": [
    {
     "name": "stdout",
     "output_type": "stream",
     "text": [
      "{0, 1}\n"
     ]
    }
   ],
   "source": [
    "# 49. Create a set of alternating 1s and 0s of length `n`.\n",
    "n=10\n",
    "alt=set(i%2 for i in range(n))\n",
    "print(alt)"
   ]
  },
  {
   "cell_type": "code",
   "execution_count": 17,
   "id": "c698dd6a-2d34-4544-9f5e-3040c7fb8c8a",
   "metadata": {},
   "outputs": [
    {
     "name": "stdout",
     "output_type": "stream",
     "text": [
      "{1, 2, 3, 4, 5}\n"
     ]
    }
   ],
   "source": [
    "# 50. Merge multiple sets into one.\n",
    "y31={1,2,3,4,5}\n",
    "y32={3,4}\n",
    "merge=y31.union(y32)\n",
    "print(merge)"
   ]
  },
  {
   "cell_type": "code",
   "execution_count": null,
   "id": "36e524ce-cb05-451c-bc22-573b07feb13b",
   "metadata": {},
   "outputs": [],
   "source": []
  }
 ],
 "metadata": {
  "kernelspec": {
   "display_name": "Python 3 (ipykernel)",
   "language": "python",
   "name": "python3"
  },
  "language_info": {
   "codemirror_mode": {
    "name": "ipython",
    "version": 3
   },
   "file_extension": ".py",
   "mimetype": "text/x-python",
   "name": "python",
   "nbconvert_exporter": "python",
   "pygments_lexer": "ipython3",
   "version": "3.10.8"
  }
 },
 "nbformat": 4,
 "nbformat_minor": 5
}
